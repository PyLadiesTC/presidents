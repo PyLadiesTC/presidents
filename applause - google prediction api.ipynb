{
 "cells": [
  {
   "cell_type": "code",
   "execution_count": 8,
   "metadata": {
    "collapsed": true
   },
   "outputs": [],
   "source": [
    "import io\n",
    "import os\n",
    "import re\n",
    "import pandas as pd"
   ]
  },
  {
   "cell_type": "code",
   "execution_count": 9,
   "metadata": {
    "collapsed": false
   },
   "outputs": [],
   "source": [
    "r_debates = []\n",
    "d_debates = []\n",
    "\n",
    "# get republicans\n",
    "for f in os.listdir(\"debates/\"):\n",
    "    if f.endswith(\".txt\"):\n",
    "        f_path = 'debates/{0}'.format(f)\n",
    "        if '2015' in f or '2016' in f:\n",
    "            if 'R_' in f:\n",
    "                with io.open(f_path,'r',encoding='utf8') as f:\n",
    "                    r_debates.append(f.read())\n",
    "            elif 'D_' in f:\n",
    "                with io.open(f_path,'r',encoding='utf8') as f:\n",
    "                    d_debates.append(f.read())"
   ]
  },
  {
   "cell_type": "code",
   "execution_count": 10,
   "metadata": {
    "collapsed": false,
    "scrolled": true
   },
   "outputs": [
    {
     "data": {
      "text/plain": [
       "12"
      ]
     },
     "execution_count": 10,
     "metadata": {},
     "output_type": "execute_result"
    }
   ],
   "source": [
    "len(r_debates)"
   ]
  },
  {
   "cell_type": "code",
   "execution_count": 12,
   "metadata": {
    "collapsed": true
   },
   "outputs": [],
   "source": [
    "d = r_debates[0]"
   ]
  },
  {
   "cell_type": "code",
   "execution_count": 13,
   "metadata": {
    "collapsed": false
   },
   "outputs": [
    {
     "data": {
      "text/plain": [
       "u'PARTICIPANTS:\\nFormer Governor Jeb Bush (FL);Ben Carson;Governor Chris Christie (NJ);Senator Ted Cruz (TX);Former Governor Mike Huckabee (AR);Governor John Kasich (OH);Senator Rand Paul (KY);Senator Marco Rubio (FL);Donald Trump;Governor Scott Walker (WI);\\nMODERATORS:\\nBret Baier (Fox News);Megyn Kelly (Fox News); and Chris Wallace (Fox News)\\nKELLY:\\nWelcome to the first debate night of the 2016 presidential campaign, live from Quicken Loans Arena in Cleveland, Ohio. I\\'m Megyn Kelly... [applause]... along with my co-moderators, Brett Baier and Chris Wallace. Tonight... [applause] Nice. Tonight, thousands of people here in the Q, along with millions of voters at home will get their very first chance to see the candidates face off in a debate, answering the questions you want answered.\\nBAIER:\\nLess than a year from now, in this very arena, one of these 10 candidates or one of the seven on the previous debate tonight will accept the Republican party\\'s nomination. [applause] Tonight\\'s candidates were selected based on an average of five national polls. Just a few hours ago, you heard from the candidates ranked 11th through 17. And now, the prime-time event, the top 10.\\nWALLACE:\\nAlso of note, Fox News is partnering for tonight\\'s debate with Facebook. For the past several weeks, we\\'ve been asking you for questions for the candidates on Facebook. Nearly 6 million of you, 6 million, viewed the debate videos on our site, and more than 40,000 of you submitted questions: some of which you will hear us asking the candidates tonight.\\nKELLY:\\nAs for the candidates who will be answering those questions? Here they are. Positioned on the stage by how they stand in the polls, in the center of the stage tonight, businessman Donald Trump. [applause] Former Florida Governor Jeb Bush. [applause] Wisconsin Governor Scott Walker. [applause] Former Arkansas Governor Mike Huckabee. [applause]\\nBAIER:\\nNeurosurgeon, Dr. Ben Carson. [applause] Texas Senator Ted Cruz. [applause] Florida Senator Marco Rubio. [applause]\\nWALLACE:\\nKentucky Senator Rand Paul. [applause] New Jersey Governor Chris Christie. [applause] And your very own governor of Ohio... [applause] ... John Kasich. [applause]\\nWALLACE:\\nBrett -- Brett, I think you would call that a home field advantage.\\nBAIER:\\nIt might be. It might be. We\\'ll see. [UNKNOWN]: Is this in the rules? An objection\\'s coming.\\nBAIER:\\nIt might be. The rules for tonight are simple. One minute for answers, 30 seconds for follow-ups. And if a candidate runs over, you\\'ll hear this. Pleasant, no? We also have a big crowd here with us tonight in the home of the Cavaliers, as I mentioned. And while we expect them... [applause] ... we expect them to be enthusiastic, as you heard, we don\\'t want to take anything away from the valuable time for the candidate. So, we\\'re looking for somewhere between a reaction to a LeBron James dunk and the Cleveland Public Library across the street. [laughter] Somewhere there, we\\'ll find a balance tonight. Without further ado, let\\'s begin.\\nBAIER:\\nGentlemen, we know how much you love hand-raising questions. So we promise, this is the only one tonight: the only one. Is there anyone on stage, and can I see hands, who is unwilling tonight to pledge your support to the eventual nominee of the Republican party and pledge to not run an independent campaign against that person. Again, we\\'re looking for you to raise your hand now -- raise your hand now if you won\\'t make that pledge tonight. Mr. Trump. [booing] Mr. Trump to be clear, you\\'re standing on a Republican primary debate stage.\\nTRUMP:\\nI fully understand.\\nBAIER:\\nThe place where the RNC will give the nominee the nod.\\nTRUMP:\\nI fully understand.\\nBAIER:\\nAnd that experts say an independent run would almost certainly hand the race over to Democrats and likely another Clinton. You can\\'t say tonight that you can make that pledge?\\nTRUMP:\\nI cannot say. I have to respect the person that, if it\\'s not me, the person that wins, if I do win, and I\\'m leading by quite a bit, that\\'s what I want to do. I can totally make that pledge. If I\\'m the nominee, I will pledge I will not run as an independent. But -- and I am discussing it with everybody, but I\\'m, you know, talking about a lot of leverage. We want to win, and we will win. But I want to win as the Republican. I want to run as the Republican nominee.\\nBAIER:\\nSo tonight, you can\\'t say if another one of these...\\nPAUL:\\nThis is what\\'s wrong!\\nBAIER:\\nOK.\\nPAUL:\\nI mean, this is what\\'s wrong. He buys and sells politicians of all stripes, he\\'s already...\\nBAIER:\\nDr. Paul.\\nPAUL:\\nHey, look, look! He\\'s already hedging his bet on the Clintons, OK? So if he doesn\\'t run as a Republican, maybe he supports Clinton, or maybe he runs as an independent...\\nBAIER:\\nOK.\\nPAUL:\\n...but I\\'d say that he\\'s already hedging his bets because he\\'s used to buying politicians.\\nTRUMP:\\nWell, I\\'ve given him plenty of money.\\nBAIER:\\nJust to be clear, you can\\'t make a -- we\\'re gonna -- we\\'re going to move on. You\\'re not gonna make the pledge tonight?\\nTRUMP:\\nI will not make the pledge at this time.\\nBAIER:\\nOK. Alright. [laughter and boing]\\nKELLY:\\nGentlemen, our first round of questions is on the subject of electability in the general election, and we start tonight with you, Dr. Carson. You are a successful neurosurgeon, but you admit that you have had to study up on foreign policy, saying there\\'s a lot to learn. Your critics say that your inexperience shows. You\\'ve suggested that the Baltic States are not a part of NATO, just months ago you were unfamiliar with the major political parties and government in Israel, and domestically, you thought Alan Greenspan had been treasury secretary instead of federal reserve chair. Aren\\'t these basic mistakes, and don\\'t they raise legitimate questions about whether you are ready to be president?\\nCARSON:\\nWell, I could take issue with -- with all of those things, but we don\\'t have time. But I will say, we have a debate here tonight, and we will have an opportunity to explore those areas, and I\\'m looking very much forward to demonstrating that, in fact, the thing that is probably most important is having a brain, and to be able to figure things out and learn things very rapidly. So, you know, experience comes from a large number of different arenas, and America became a great nation early on not because it was flooded with politicians, but because it was flooded with people who understood the value of personal responsibility, hard work, creativity, innovation, and that\\'s what will get us on the right track now, as well.\\nWALLACE:\\nSenator Rubio, when Jeb Bush announced his candidacy for presidency, he said this: \"There\\'s no passing off responsibility when you\\'re a governor, no blending into the legislative crowd.\" Could you please address Governor Bush across the stage here, and explain to him why you, someone who has never held executive office, are better prepared to be president than he is, a man who you say did a great job running your state of Florida for eight years.\\nRUBIO:\\nWell, thank you for the question, Chris, and it\\'s great to be here tonight. Let me begin by saying this: I\\'m not new to the political process; I was making a contribution as the speaker of the third largest and most diverse state in the country well before I even got into the Senate. I would add to that that this election cannot be a resume competition. It\\'s important to be qualified, but if this election is a resume competition, then Hillary Clinton\\'s gonna be the next president, because she\\'s been in office and in government longer than anybody else running here tonight. Here\\'s what this election better be about: This election better be about the future, not the past. It better be about the issues our nation and the world is facing today, not simply the issues we once faced. This country is facing an economy that has been radically transformed. You know, the largest retailer in the country and the world today, Amazon, doesn\\'t even own a single store? And these changes have been disruptive. They have changed people\\'s lives. The jobs that once sustained our middle class, they either don\\'t pay enough or they are gone, and we need someone that understands that as our nominee. If I\\'m our nominee, how is Hillary Clinton gonna lecture me about living paycheck to paycheck? I was raised paycheck to paycheck. How is she -- how is she gonna lecture me -- how is she gonna lecture me about student loans? I owed over $100,000 just four years ago. If I\\'m our nominee, we will be the party of the future. [applause]\\nBAIER:\\nGovernor Bush, you have insisted that you\\'re your own man. You say you have a life experience uniquely your own. Not your father\\'s, not your brother\\'s. But there are several opponents on this stage who get big- applause lines in early voting states with this line: quote, \"the last thing the country needs is another Bush in the Oval Office.\" So do you understand the real concern in this country about dynastic politics?\\nBUSH:\\nAbsolutely, I do, and I\\'m gonna run hard, run with heart, and run to win. I\\'m gonna have to earn this. Maybe the barrier -- the bar\\'s even higher for me. That\\'s fine. I\\'ve got a record in Florida. I\\'m proud of my dad, and I\\'m certainly proud of my brother. In Florida, they called me Jeb, because I earned it. I cut taxes every year, totaling $19 billion. We were -- we had -- we balanced every budget. We went from $1 billion of reserves to $9 billion of reserves. We were one of two states that went to AAA bond rating. They keep -- they called me Veto Corleone. Because I vetoed 2,500 separate line-items in the budget. [applause] I am my own man. I governed as a conservative, and I govern effectively. And the net effect was, during my eight years, 1.3 million jobs were created. We left the state better off because I applied conservative principles in a purple state the right way, and people rose up. [applause]\\nKELLY:\\nMr. Trump, one of the things people love about you is you speak your mind and you don\\'t use a politician\\'s filter. However, that is not without its downsides, in particular, when it comes to women. You\\'ve called women you don\\'t like \"fat pigs, dogs, slobs, and disgusting animals.\" [laughter] Your Twitter account...\\nTRUMP:\\nOnly Rosie O\\'Donnell. [laughter]\\nKELLY:\\nNo, it wasn\\'t. [applause] Your Twitter account... [applause]\\nTRUMP:\\nThank you.\\nKELLY:\\nFor the record, it was well beyond Rosie O\\'Donnell.\\nTRUMP:\\nYes, I\\'m sure it was.\\nKELLY:\\nYour Twitter account has several disparaging comments about women\\'s looks. You once told a contestant on Celebrity Apprentice it would be a pretty picture to see her on her knees. Does that sound to you like the temperament of a man we should elect as president, and how will you answer the charge from Hillary Clinton, who was likely to be the Democratic nominee, that you are part of the war on women?\\nTRUMP:\\nI think the big problem this country has is being politically correct. [applause] I\\'ve been challenged by so many people, and I don\\'t frankly have time for total political correctness. And to be honest with you, this country doesn\\'t have time either. This country is in big trouble. We don\\'t win anymore. We lose to China. We lose to Mexico both in trade and at the border. We lose to everybody. And frankly, what I say, and oftentimes it\\'s fun, it\\'s kidding. We have a good time. What I say is what I say. And honestly Megyn, if you don\\'t like it, I\\'m sorry. I\\'ve been very nice to you, although I could probably maybe not be, based on the way you have treated me. But I wouldn\\'t do that. [applause] But you know what, we -- we need strength, we need energy, we need quickness and we need brain in this country to turn it around. That, I can tell you right now.\\nWALLACE:\\nSenator Cruz, your colleague, Senator Paul, right there next to you, said a few months ago he agrees with you on a number of issues, but he says you do nothing to grow the party. He says you feed red meat to the base, but you don\\'t reach out to minorities. You have a toxic relationship with GOP leaders in Congress. You even called the Republican Senate Leader Mitch McConnell a liar recently. [applause] How can you win in 2016 when you\\'re such a divisive figure?\\nCRUZ:\\nChris, I believe the American people are looking for someone to speak the truth. [applause] If you\\'re looking for someone to go to Washington, to go along to get along, to get -- to agree with the career politicians in both parties who get in bed with the lobbyists and special interests, then I ain\\'t your guy. There is a reason... [applause] .... that we have $18 trillion in debt. Because as conservatives, as Republicans, we keep winning elections. We got a Republican House, we\\'ve got a Republican Senate, and we don\\'t have leaders who honor their commitments. I will always tell the truth and do what I said I would do. [applause]\\nBAIER:\\nGovernor Christie, you\\'re not exactly the darling of conservatives. You tout your record as a Republican governor in a blue state. On Facebook, the most people talking about you, not surprisingly, come from your state of New Jersey, and one of the top issues they are talking about is the economy. This -- this may be why. Under your watch, New Jersey has undergone nine credit rating downgrades. The state\\'s 44th in private sector growth. You face an employee pension crisis and the Garden State has the third highest foreclosure rate in the country. So why should voters believe that your management of the country\\'s finances would be any different?\\nCHRISTIE:\\nIf you think it\\'s bad now, you should\\'ve seen it when I got there. [laught and applause] The fact is -- the fact is, in the eight years before I became governor, taxes and fees were raised at the state level 115 times. In the eight years before I became governor, spending was increased 56 percent. And in the eight years before I become governor, taxes and fees were raised at the state level 115 times. In the eight years before I became Governor, spending was increased 56 percent, and in the eight years before I became governor, there was zero net private sector job growth in New Jersey. Zero. For eight years. So, what did we do? We came in, we balanced an $11 billion deficit on a $29 billion budget by cutting over 800 programs in the state budget. We brought the budget into balance with no tax increases. In fact, we vetoed five income tax increases during my time as governor. We cut business taxes $2.3 billion, and we cut regulation by one-third of what my predecessor put in place. And, what\\'s happened since? A hundred ninety-two thousand private sector jobs in the five and a half years I\\'ve been governor. We have a lot of work to do in New Jersey, but I am darn proud we\\'ve brought our state back. [applause]\\nKELLY:\\nGovernor Walker, you\\'ve consistently said that you want to make abortion illegal even in cases of rape, incest, or to save the life of the mother. You recently signed an abortion law in Wisconsin that does have an exception for the mother\\'s life, but you\\'re on the record as having objected to it. Would you really let a mother die rather than have an abortion, and with 83 percent of the American public in favor of a life exception, are you too out of the mainstream on this issue to win the general election?\\nWALKER:\\nWell, I\\'m pro-life, I\\'ve always been pro-life, and I\\'ve got a position that I think is consistent with many Americans out there in that... [applause] ...in that I believe that that is an unborn child that\\'s in need of protection out there, and I\\'ve said many a time that that unborn child can be protected, and there are many other alternatives that can also protect the life of that mother. That\\'s been consistently proven. Unlike Hillary Clinton, who has a radical position in terms of support for Planned Parenthood, I defunded Planned Parenthood more than four years ago, long before any of these videos came out... [applause] ...I\\'ve got a position that\\'s in line with everyday America. [applause]\\nWALLACE:\\nGovernor Huckabee, like Governor Walker, you have staked out strong positions on social issues. You favor a constitutional amendment banning same sex marriage. You favor a constitutional amendment banning abortions, except for the life of the mother. Millions of people in this country agree with you, but according to the polls, and again this an electability question, according to the polls, more people don\\'t, so how do you persuade enough Independents and Democrats to get elected in 2016?\\nHUCKABEE:\\nChris, I disagree with the idea that the real issue is a constitutional amendment. That\\'s a long and difficult process. I\\'ve actually taken the position that\\'s bolder than that. A lot of people are talking about defunding planned parenthood, as if that\\'s a huge game changer. I think it\\'s time to do something even more bold. I think the next president ought to invoke the Fifth, and Fourteenth Amendments to the constitution now that we clearly know that that baby inside the mother\\'s womb is a person at the moment of conception. The reason we know that it is is because of the DNA schedule that we now have clear scientific evidence on. And, this notion that we just continue to ignore the personhood of the individual is a violation of that unborn child\\'s Fifth and 14th Amendment rights for due process and equal protection under the law. It\\'s time that we recognize the Supreme Court is not the Supreme Being, and we change the policy to be pro-life and protect children instead of rip up their body parts and sell them like they\\'re parts to a Buick. [applause]\\nBAIER:\\nSenator Paul, you recently blamed the rise of ISIS on Republican hawks. You later said that that statement, you could have said it better. But, the statement went on, and you said, quote, \"Everything they\\'ve talked about in foreign policy, they\\'ve been wrong for the last 20 years.\" Why are you so quick to blame your own party?\\nPAUL:\\nFirst of all, only ISIS is responsible for the terrorism. Only ISIS is responsible for the depravity. But, we do have to examine, how are we going to defeat ISIS? I\\'ve got a proposal. I\\'m the leading voice in America for not arming the allies of ISIS. [applause]  I\\'ve been fighting amidst a lot of opposition from both Hillary Clinton, as well as some Republicans who wanted to send arms to the allies of ISIS. ISIS rides around in a billion dollars worth of U.S. Humvees. It\\'s a disgrace. We\\'ve got to stop -- we shouldn\\'t fund our enemies, for goodness sakes. So, we didn\\'t create ISIS -- ISIS created themselves, but we will stop them, and one of the ways we stop them is by not funding them, and not arming them. [applause]\\nKELLY:\\nGovernor Kasich, You chose to expand Medicaid in your state, unlike several other governors on this stage tonight, and it is already over budget by some estimates costing taxpayers an additional $1.4 billion in just the first 18 months. You defended your Medicaid expansion by invoking God, saying to skeptics that when they arrive in heaven, Saint Peter isn\\'t going to ask them how small they\\'ve kept government, but what they have done for the poor. Why should Republican voters, who generally want to shrink government, believe that you won\\'t use your Saint Peter rationale to expand every government program?\\nKASICH:\\nWell, first of all... [applause] ...first of all, Megyn, you should know that -- that President Reagan expanded Medicaid three or four times. Secondly, I had an opportunity to bring resources back to Ohio to do what? To treat the mentally ill. Ten thousand of them sit in our prisons. It costs $22,500 a year... [applause] ...to keep them in prison. I\\'d rather get them their medication so they could lead a decent life. Secondly, we are rehabbing the drug-addicted. Eighty percent of the people in our prisons have addictions or problems. We now treat them in the prisons, release them in the community and the recidivism rate is 10 percent and everybody across this country knows that the tsunami of drugs is -- is threatening their very families. So we\\'re treating them and getting them on their feet. And, finally, the working poor, instead of them having come into the emergency rooms where it costs more, where they\\'re sicker and we end up paying, we brought a program in here to make sure that people could get on their feet. And do you know what? Everybody has a right to their God-given purpose. And finally, our Medicaid is growing at one of the lowest rates in the country. And, finally, we went from $8 billion in the hole to $2 billion in the black. We\\'ve cut $5 billion in taxes... [timer sounds] ...and we\\'ve grown 350,000 jobs. [applause]\\nWALLACE:\\nGentlemen, we\\'re turning to a new subject that all of you have been talking about and some of you have been disagreeing about, and that is the issue of immigration. Governor Bush, you released a new plan this week on illegal immigration focusing on enforcement, which some suggest is your effort to show that you\\'re not soft on that issue. I want to ask you about a statement that you made last year about illegal immigrants. And here\\'s what you said. \"They broke the law, but it\\'s not a felony, it\\'s an act of love. It\\'s an act of commitment to your family.\" Do you stand by that statement and do you stand by your support for earned legal status?\\nBUSH:\\nI do. I believe that the great majority of people coming here illegally have no other option. They want to provide for their family. But we need to control our border. It\\'s not -- it\\'s our responsibility to pick and choose who comes in. So I -- I\\'ve written a book about this and yet this week, I did come up with a comprehensive strategy that -- that really mirrored what we said in the book, which is that we need to deal with E-Verify, we need to deal with people that come with a legal visa and overstay. We need to be much more strategic on how we deal with border enforcement, border security. We need to eliminate the sanctuary cities in this country. It is ridiculous and tragic...[applause]...that people are dying because of the fact that -- that local governments are not following the federal law. There\\'s much to do. And I think rather than talking about this as a wedge issue, which Barack Obama has done now for six long years, the next president -- and I hope to be that president -- will fix this once and for all so that we can turn this into a driver for high sustained economic growth. And there should be a path to earned legal status...[timer sounds] ...for those that are here. Not -- not amnesty, earned legal status, which means you pay a fine and do many things over an extended period of time.\\nWALLACE:\\nThank you, sir. [applause]  Mr. Trump, it has not escaped anybody\\'s notice that you say that the Mexican government, the Mexican government is sending criminals -- rapists, drug dealers, across the border. Governor Bush has called those remarks, quote, \"extraordinarily ugly.\" I\\'d like you -- you\\'re right next to him -- tell us -- talk to him directly and say how you respond to that and -- and you have repeatedly said that you have evidence that the Mexican government is doing this, but you have evidence you have refused or declined to share. Why not use this first Republican presidential debate to share your proof with the American people?\\nTRUMP:\\nSo, if it weren\\'t for me, you wouldn\\'t even be talking about illegal immigration, Chris. You wouldn\\'t even be talking about it. [applause] This was not a subject that was on anybody\\'s mind until I brought it up at my announcement. And I said, Mexico is sending. Except the reporters, because they\\'re a very dishonest lot, generally speaking, in the world of politics, they didn\\'t cover my statement the way I said it. The fact is, since then, many killings ,murders, crime, drugs pouring across the border, are money going out and the drugs coming in. And I said we need to build a wall, and it has to be built quickly. And I don\\'t mind having a big beautiful door in that wall so that people can come into this country legally. But we need, Jeb, to build a wall, we need to keep illegals out. [cheering and applause]\\nWALLACE:\\nMr. Trump, I\\'ll give you 30 seconds -- I\\'ll give you 30 seconds to answer my question, which was, what evidence do you have, specific evidence that the Mexican government is sending criminals across the border? Thirty seconds.\\nTRUMP:\\nBorder Patrol, I was at the border last week. Border Patrol, people that I deal with, that I talk to, they say this is what\\'s happening. Because our leaders are stupid. Our politicians are stupid. And the Mexican government is much smarter, much sharper, much more cunning. And they send the bad ones over because they don\\'t want to pay for them. They don\\'t want to take care of them. Why should they when the stupid leaders of the United States will do it for them? And that\\'s what is happening whether you like it or not. [cheering and applause]\\nWALLACE:\\nAll right. Obviously there\\'s a lot more to talk about this. We\\'re going to have more questions for the candidates on illegal immigration, plus other key topics including your questions on Facebook. [video clip begins] UNIDENTIFIED\\nMALE:\\nWhat will be your plan on making immigration easier for those that want to do it legally? UNIDENTIFIED\\nMALE:\\nWhat specific steps would you take to contain the growth of ISIS? UNIDENTIFIED\\nFEMALE:\\nI\\'d like to know what the candidates are going to do so that I feel safe in my own country again. [video clip ends] [commercial break]\\nWALLACE:\\nWelcome back to FOX News/Facebook Republican Debate Night. We\\'re going to continue the questions now on illegal immigration. We kind of ended with a cliffhanger there. So let\\'s continue the conversation. Governor Kasich, I know you don\\'t like to talk about Donald Trump. But I do want to ask you about the merit of what he just said. When you say that the American government is stupid, that the Mexican government is sending criminals, that we\\'re being bamboozled, is that an adequate response to the question of illegal immigration?\\nKASICH:\\nChris, first of all, I was just saying to Chris Christie, they say we\\'re outspoken, we need to take lessons from Donald Trump if we\\'re really going to learn it. Here is the thing about Donald Trump. Donald Trump is hitting a nerve in this country. He is. He\\'s hitting a nerve. People are frustrated. They\\'re fed up. They don\\'t think the government is working for them. And for people who want to just tune him out, they\\'re making a mistake. Now, he\\'s got his solutions. Some of us have other solutions. You know, look, I balanced the federal budget as one of the chief architects when I was in Washington. Hasn\\'t been done since. I was a military reformer. I took the state of Ohio from an $8 billion hole and a 350,000 job loss to a $2 billion surplus and a gain of 350,000 jobs.\\nWALLACE:\\nRespectfully, can we talk about illegal immigration?\\nKASICH:\\nBut the point is that we all have solutions. Mr. Trump is touching a nerve because people want the wall to be built. They want to see an end to illegal immigration. They want to see it, and we all do. But we all have different ways of getting there. And you\\'re going to hear from all of us tonight about what our ideas are.\\nWALLACE:\\nAll right, well, Senator Rubio, let me see if I can do better with you. Is it as simple as our leaders are stupid, their leaders are smart, and all of these illegals coming over are criminals?\\nRUBIO:\\nLet me set the record straight on a couple of things. The first is, the evidence is now clear that the majority of people coming across the border are not from Mexico. They\\'re coming from Guatemala, El Salvador, Honduras. Those countries are the source of the people that are now coming in its majority. I also believe we need a fence. The problem is if El Chapo builds a tunnel under the fence, we have to be able to deal with that too. And that\\'s why you need an e-verify system and you need an entry-exit tracking system and all sorts of other things to prevent illegal immigration. But I agree with what Governor Kasich just said. People are frustrated. This is the most generous country in the world when it comes to immigration. There are a million people a year who legally immigrate to the United States, and people feel like we\\'re being taken advantage of. We feel like despite our generosity, we\\'re being taken advantage of. And let me tell you who never gets talked about in these debates. The people that call my office, who have been waiting for 15 years to come to the United States. And they\\'ve paid their fees, and they hired a lawyer, and they can\\'t get in. And they\\'re wondering, maybe they should come illegally. [applause] And so these are important issues, and we should address it. It\\'s a serious problem that needs to be addressed, and otherwise we\\'re going to keep talking about this for the next 30 years, like we have for the last 30 years.\\nWALLACE:\\nGovernor Walker. [applause] Governor Walker, from 2002 until as recently as 2013, just two years ago, you supported comprehensive immigration reform, including a path to citizenship. Now you say that was a quick reaction to something you hadn\\'t really thought about, and that you\\'ve changed your mind. Other than politics, could you explain why in the last two years you\\'ve changed your position on a path to citizenship, and are there other past positions that we shouldn\\'t hold you to?\\nWALKER:\\nChris, I actually said that on your show earlier this year. [crosstalk] I acknowledged that. I said I actually listened to the American people. And I think people across America want a leader who\\'s actually going to listen to them. I talked to border state governors and other elected officials. I look at how this president, particularly through last November, messed up the immigration system in this country. Most importantly, I listened to the people of America. I believe we need to secure the border. I\\'ve been to the border with Governor Abbott in Texas and others, seeing the problems that they have there. There is international criminal organizations penetrating our southern based borders, and we need to do something about it. Secure the border, enforce the law, no amnesty, and go forward with the legal immigration system that gives priority to American working families and wages. [applause]\\nWALLACE:\\nSenator Cruz, some 1,400 people submitted questions on this very hot topic of illegal immigration on Facebook, and a number of them were about the murder of Kate Steinle in San Francisco, allegedly shot down by an illegal. Doug Bettencourt sent this question, \"will you support Kate Steinle\\'s Law,\" which would impose a mandatory five-year prison term for an illegal who is deported and then returns to this country? \"And will you defund sanctuary cities for violating federal law?\"\\nCRUZ:\\nChris, absolutely yes. And not only will I support it...[applause]...I have authored Kate\\'s law in the United States Senate and filed that legislation. I tried to get the Senate to vote to pass Kate\\'s law on the floor of the Senate just one week ago, and the leader of our own party blocked a vote on Kate\\'s law. You know, there was reference made to our leaders being stupid. It\\'s not a question of stupidity. It\\'s that they don\\'t want to enforce the immigration laws. That there are far too many in the Washington cartel that support amnesty. President Obama has talked about fundamentally transforming this country. There\\'s 7 billion people across the face of the globe, many of whom want to come to this country. If they come legally, great. But if they come illegally and they get amnesty, that is how we fundamentally change this country, and it really is striking. A majority of the candidates on this stage have supported amnesty. I have never supported amnesty, and I led the fight against Chuck Schumer\\'s gang of eight amnesty legislation in the Senate.\\nKELLY:\\nAlright, gentlemen, we\\'re gonna switch topics now and talk a bit about terror and national security. Governor Christie. You\\'ve said that Senator Paul\\'s opposition to the NSA\\'s collection of phone records has made the United States weaker and more vulnerable, even going so far as to say that he should be called before Congress to answer for it if we should be hit by another terrorist attack. Do you really believe you can assign blame to Senator Paul just for opposing the bulk collection of people\\'s phone records in the event of a terrorist attack?\\nCHRISTIE:\\nYes, I do. And I\\'ll tell you why: because I\\'m the only person on this stage who\\'s actually filed applications under the Patriot Act, who has gone before the federal -- the Foreign Intelligence Service court, who has prosecuted and investigated and jailed terrorists in this country after September 11th. I was appointed U.S. attorney by President Bush on September 10th, 2001, and the world changed enormously the next day, and that happened in my state. This is not theoretical to me. I went to the funerals. We lost friends of ours in the Trade Center that day. My own wife was two blocks from the Trade Center that day, at her office, having gone through it that morning. When you actually have to be responsible for doing this, you can do it, and we did it, for seven years in my office, respecting civil liberties and protecting the homeland. And I will make no apologies, ever, for protecting the lives and the safety of the American people. We have to give more tools to our folks to be able to do that, not fewer, and then trust those people and oversee them to do it the right way. As president, that is exactly what I\\'ll do.\\nPAUL:\\nMegyn, may I respond? [applause] May I respond?\\nKELLY:\\nGo ahead, sir.\\nPAUL:\\nI want to collect more records from terrorists, but less records from innocent Americans. The Fourth Amendment was what we fought the Revolution over! John Adams said it was the spark that led to our war for independence, and I\\'m proud of standing for the Bill of Rights, and I will continue to stand for the Bill of Rights. [applause]\\nCHRISTIE:\\nAnd -- and, Megyn? Megyn, that\\'s a -- that, you know, that\\'s a completely ridiculous answer. \"I want to collect more records from terrorists, but less records from other people.\" How are you supposed to know, Megyn?\\nPAUL:\\nUse the Fourth Amendment!\\nCHRISTIE:\\nWhat are you supposed to...\\nPAUL:\\nUse the Fourth Amendment!\\nCHRISTIE:\\n...how are you supposed to -- no, I\\'ll tell you how you, look...\\nPAUL:\\nGet a warrant!\\nCHRISTIE:\\nLet me tell you something, you go...\\nPAUL:\\nGet a judge to sign the warrant!\\nCHRISTIE:\\nWhen you -- you know, senator... [crosstalk]\\nKELLY:\\nGovernor Christie, make your point.\\nCHRISTIE:\\nListen, senator, you know, when you\\'re sitting in a subcommittee, just blowing hot air about this, you can say things like that. [applause] When you\\'re responsible for protecting the lives of the American people, then what you need to do is to make sure...\\nPAUL:\\nSee, here\\'s the problem.\\nCHRISTIE:\\n...is to make sure that you use the system the way it\\'s supposed to work.\\nPAUL:\\nHere\\'s the problem, governor. Here\\'s the problem, governor. You fundamentally misunderstand the Bill of Rights. Every time you did a case, you got a warrant from a judge. I\\'m talking about searches without warrants...\\nCHRISTIE:\\nThere is no...\\nPAUL:\\n...indiscriminately, of all Americans\\' records, and that\\'s what I fought to end. I don\\'t trust President Obama with our records. I know you gave him a big hug, and if you want to give him a big hug again, go right ahead. [applause]\\nKELLY:\\nGo ahead, governor.\\nCHRISTIE:\\nAnd you know -- you know, Senator Paul? Senator Paul, you know, the hugs that I remember are the hugs that I gave to the families who lost their people on September 11th. Those are the hugs I remember, and those had nothing to do -- and those had nothing to do with politics, unlike what you\\'re doing by cutting speeches on the floor of the Senate, then putting them on the Internet within half an hour to raise money for your campaign...\\nKELLY:\\nAlright.\\nCHRISTIE:\\n...and while still putting our country at risk. [crosstalk]\\nKELLY:\\nAlright, we\\'ve gotta cut it off there. We have plenty more we want to get to. That was an interesting exchange, thank you for that.\\nCHRISTIE:\\nYou know what, Megyn, can I...\\nKELLY:\\nWell, I want to move on, because I have -- we\\'re gonna get to you, governor, but I -- I really wanna get to a Facebook questioner. His name is Alex Chalgren, and he has the following question: [video clip begins]\\nQUESTION:\\n: My question is, how would the candidates stop the treacherous actions of ISIS -- ISIL and its growing influence in the U.S., if they were to become president? [video clip ends]\\nKELLY:\\nSenator Cruz, I wanna talk to you about this, because many of the Facebook users and -- and -- the -- the folks on Facebook wanted the candidates to speak to ISIS tonight. You asked the chairman of the joint chiefs a question: \"What would it take to destroy ISIS in 90 days?\" He told you \"IISIS will only be truly destroyed once they are rejected by the populations in which they hide.\" And then you accused him of pushing Medicaid for the Iraqis. How would you destroy ISIS in 90 days?\\nCRUZ:\\nMegyn, we need a commander in chief that speaks the truth. We will not defeat radical Islamic terrorism so long as we have a president unwilling to utter the words, \"radical Islamic terrorism\". [applause] When I asked General Dempsey, the chairman of the joint chiefs, what would be required militarily to destroy ISIS, he said there is no military solution. We need to change the conditions on the ground so that young men are not in poverty and susceptible to radicalization. That, with all due respect, is nonsense. It\\'s the same answer the State Department gave that we need to give them jobs. What we need is a commander in chief who makes -- clear, if you join ISIS, if you wage jihad on America, then you are signing your death warrant.\\nKELLY:\\nYou don\\'t see it as... [applause] ...an ideological problem -- an ideological problem in addition to a military one? [applause]\\nCRUZ:\\nMegyn, of course it\\'s an ideological problem, that\\'s one of the reasons I introduce the Expatriate Terrorist Act in the Senate that said if any American travels to the Middle East and joining ISIS, that he or she forfeits their citizenship so they don\\'t use a passport to come back and wage jihad on Americans. [applause] Yes, it is ideological, and let me contrast President Obama, who at the prayer breakfast, essentially acted as an apologist. He said, \"Well, gosh, the crusades, the inquisitions--\"[timer sounds] We need a president that shows the courage that Egypt\\'s President al-Sisi did, a Muslim, when he called out the radical Islamic terrorists who are threatening the world. [applause]\\nKELLY:\\nGovernor Bush, for days on end in this campaign, you struggled to answer a question about whether knowing what we know now...\\nBUSH:\\n...I remember...\\nKELLY:\\n...we would\\'ve invaded Iraq...\\nBUSH:\\n...I remember, Megyn. [laughter]\\nKELLY:\\nI remember it too, and ISIS, of course, is now thriving there. You finally said, \"No.\" To the families of those who died in that war who say they liberated a country and deposed a ruthless dictator, how do you look at them now and say that your brothers war was a mistake?\\nBUSH:\\nKnowing what we know now, with faulty intelligence, and not having security be the first priority when -- when we invaded, it was a mistake. I wouldn\\'t have gone in, however, for the people that did lose their lives, and the families that suffer because of it -- I know this full well because as governor of the state of Florida, I called every one of them. Every one of them that I could find to tell them that I was praying for them, that I cared about them, and it was really hard to do. And, every one of them said that their child did not die in vain, or their wife, of their husband did not die in vain. So, why it was difficult for me to do it was based on that. Here\\'s the lesson that we should take from this, which relates to this whole subject. Barack Obama became president, and he abandoned Iraq. He left, and when he left Al Qaida was done for. ISIS was created because [timer sounds] of the void that we left, and that void now exists as a caliphate the size of Indiana. To honor the people that died, we need to -- we need to --- stop the -- Iran agreement, for sure, because the Iranian mullahs have their blood on their hands, and we need to take out ISIS with every tool at our disposal. [applause]\\nKELLY:\\nGovernor Walker, in February you said that we needed to gain partners in the Arab world. Which Arab country not already in the U.S. led coalition has potential to be our greatest partner?\\nWALKER:\\nI don\\'t know about additional ones. We need to focus on the ones we have. You look at Egypt, probably the best relationship we\\'ve had in Israel, at least in my lifetime, incredibly important. You look at the Saudis -- in fact, earlier this year, I met with Saudi leaders, and leaders from the United Arab Emirates, and I asked them what\\'s the greatest challenge in the world today? Set aside the Iran deal. They said it\\'s the disengagement of America. We are leading from behind under the Obama-Clinton doctrine -- America\\'s a great country. We need to stand up and start leading again, and we need to have allies, not just in Israel, but throughout the Persian Gulf.\\nKELLY:\\nDr. Carson, in one of his first acts as commander in chief, President Obama signed an executive order banning enhanced interrogation techniques in fighting terror. As president, would you bring back water boarding?\\nCARSON:\\nWell, thank you, Megyn, I wasn\\'t sure I was going to get to talk again. [applause]\\nKELLY:\\nWe have a lot for you, don\\'t worry. [laughter and applause] Fear not, you may rue that request.\\nCARSON:\\nAlright. You know, what we do in order to get the information that we need is our business, and I wouldn\\'t necessarily be broadcasting what we\\'re going to do. [applause] We. . .uh. . .we\\'ve gotten into this -- this mindset of fighting politically correct wars. There is no such thing as a politically correct war. [applause] And, the left, of course, will say Carson doesn\\'t believe in the Geneva Convention. Carson doesn\\'t believe in fighting stupid wars. And -- and what we have to remember is we want to utilize the tremendous intellect that we have in the military to win wars. And I\\'ve talked to a lot of the generals, a lot of our advanced people. And believe me, if we gave them the mission, which is what the commander-in-chief does, they would be able to carry it out. And if we don\\'t tie their hands behind their back, they will do it...[timer sounds]...extremely effectively. [applause]\\nBAIER:\\nGentlemen, the next series of questions deals with ObamaCare and the role of the federal government. Mr. Trump, ObamaCare is one of the things you call a disaster.\\nTRUMP:\\nA complete disaster, yes.\\nBAIER:\\nSaying it needs to be repealed and replaced.\\nTRUMP:\\nCorrect.\\nBAIER:\\nNow, 15 years ago, you called yourself a liberal on health care. You were for a single-payer system, a Canadian-style system. Why were you for that then and why aren\\'t you for it now?\\nTRUMP:\\nFirst of all, I\\'d like to just go back to one. In July of 2004, I came out strongly against the war with Iraq, because it was going to destabilize the Middle East. And I\\'m the only one on this stage that knew that and had the vision to say it. And that\\'s exactly what happened.\\nBAIER:\\nBut on ObamaCare...\\nTRUMP:\\nAnd the Middle East became totally destabilized. So I just want to say. As far as single payer, it works in Canada. It works incredibly well in Scotland. It could have worked in a different age, which is the age you\\'re talking about here. What I\\'d like to see is a private system without the artificial lines around every state. I have a big company with thousands and thousands of employees. And if I\\'m negotiating in New York or in New Jersey or in California, I have like one bidder. Nobody can bid. You know why? Because the insurance companies are making a fortune because they have control of the politicians, of course, with the exception of the politicians on this stage. But they have total control of the politicians. They\\'re making a fortune. Get rid of the artificial lines and you will have...[timer sounds]...yourself great plans. And then we have to take care of the people that can\\'t take care of themselves. And I will do that through a different system. [crosstalk]\\nBAIER:\\nMr. Trump, hold up one second.\\nPAUL:\\nI\\'ve got a news flash...\\nBAIER:\\nAll right, now, hold on, Senator Paul...\\nPAUL:\\nNews flash, the Republican Party\\'s been fighting against a single-payer system...\\nBAIER:\\nOK.\\nPAUL:\\n-- for a decade. So I think you\\'re on the wrong side of this if you\\'re still arguing for a single-payer system.\\nTRUMP:\\nI\\'m not -- I\\'m not are -- I don\\'t think you heard me. You\\'re having a hard time tonight.\\nBAIER:\\nAll right, let me... [applause] Mr. Trump, it\\'s not just your past support for single- payer health care. You\\'ve also supported a host of other liberal policies. Use -- you\\'ve also donated to several Democratic candidates, Hillary Clinton included, Nancy Pelosi. You explained away those donations saying you did that to get business-related favors. And you said recently, quote, \"When you give, they do whatever the hell you want them to do.\"\\nTRUMP:\\nYou\\'d better believe it.\\nBAIER:\\nSo what specifically did... UNIDENTIFIED\\nMALE:\\nThat\\'s true.\\nBAIER:\\n-- they do?\\nTRUMP:\\nIf I ask them, if I need them, you know, most of the people on this stage I\\'ve given to, just so you understand, a lot of money.\\nRUBIO:\\nNot me.\\nHUCKABEE:\\nNot me. [laughter]  But you\\'re welcome to give me a check, Donald if you\\'d like.\\nTRUMP:\\nMany of them.\\nRUBIO:\\nActually, to be clear...[crosstalk]...he supported Charlie Crist.\\nTRUMP:\\nNot much.\\nRUBIO:\\nHey, Charlie...[crosstalk]\\nTRUMP:\\nBut I...[crosstalk]\\nKASICH:\\nDonald, if you...[crosstalk]\\nTRUMP:\\nI have good...\\nKASICH:\\n-- this campaign, I hope you will give to me.\\nTRUMP:\\nGood.\\nKASICH:\\nOK.\\nTRUMP:\\nSounds good. Sounds good to me, Governor. I will tell you that our system is broken. I gave to many people, before this, before two months ago, I was a businessman. I give to everybody. When they call, I give. And do you know what? When I need something from them two years later, three years later, I call them, they are there for me. UNIDENTIFIED\\nMALE:\\nSo what did you get?\\nTRUMP:\\nAnd that\\'s a broken system. UNIDENTIFIED\\nMALE:\\nWhat did you get from Hillary Clinton and Nancy Pelosi?\\nTRUMP:\\nWell, I\\'ll tell you what, with Hillary Clinton, I said be at my wedding and she came to my wedding. You know why? She didn\\'t have a choice because I gave. I gave to a foundation that, frankly, that foundation is supposed to do good. I didn\\'t know her money would be used on private jets going all over the world. It was. But...[timer sounds] [crosstalk]\\nBAIER:\\nHold on. We\\'re going to -- we\\'re going to move on. [crosstalk] We\\'ll come back to you, Governor Walker.\\nWALKER:\\nJust one second on this, though. We -- we spent a lot of time talking about Hillary Clinton and ---and pitting us back and forth. Let\\'s be clear, we should be talking about Hillary Clinton on that last subject, because everywhere in the world that Hillary Clinton touched is more messed up today than before she and the president [inaudible].\\nBAIER:\\nWe have many questions to come.\\nWALKER:\\nIt\\'s true.\\nBAIER:\\nMany questions to come. [applause]  Governor Huckabee, on Facebook, John Pietricone asked this, \"Will you abolish or take away the powers and cut the size of the EPA, the IRS, the Department of Education?\" Now, broadly... [applause] ...broadly, the size of government is a big concern for Facebook users, Facebook persons, as well as, obviously, conservatives. But year after year, decade after decade, there are promises from Republicans to shrink government. But year after year, decade after decade, it doesn\\'t happen. In fact, it gets bigger, even under Republican politicians. So the question is, at this point, is the government simply too big for any one person, even a Republican, to shrink?\\nHUCKABEE:\\nIt\\'s not too big to shrink. But the problem is we have a Wall Street-to-Washington axis of power that has controlled the political climate. The donor class feeds the political class who does the dance that the donor class wants. And the result is federal government keeps getting bigger. Every person on this stage who has been a governor will tell that you the biggest fight they had was not the other party. Wasn\\'t even the legislature. It was the federal government, who continually put mandates on the states that we had to suck up and pay for. And the fact is there are a lot of things happening at the federal level that are absolutely beyond the jurisdiction of the Constitution. This is power that should be shifted back to the states, whether it\\'s the EPA, there is no role at the federal level for the Department of Education. [cheering and applause] And I\\'m still one who says that we can get rid of the Internal Revenue Service if we would pass the FairTax, which is a tax on consumption rather than a tax on people\\'s income, and move power back where the founders believed it should have been all along.\\nBAIER:\\nDr. Carson... UNIDENTIFIED\\nMALE:\\nBret, Bret, Bret...\\nBAIER:\\nDr. Carson, do you agree with that?\\nCARSON:\\nWhat I agree with is that we need a significantly changed taxation system. And the one that I\\'ve advocated is based on tithing, because I think God is a pretty fair guy. And he said, you know, if you give me a tithe, it doesn\\'t matter how much you made. If you\\'ve had a bumper crop, you don\\'t owe me triple tithes. And if you\\'ve had no crops at all, you don\\'t owe me no tithes. So there must be something inherently fair about that. And that\\'s why I\\'ve advocated a proportional tax system. You make $10 billion, you pay a billion. You make $10, you pay one. And everybody gets treated the same way. And you get rid of the deductions, you get rid of all the loopholes, and...[timer sounds]\\nBAIER:\\nGovernor Bush?\\nCARSON:\\nAnd I have a lot more to say about it.\\nBAIER:\\nWe\\'re going to come back to you, Dr. Carson. Governor Bush, you are one of the few people on the stage who advocates for Common Core education standards, reading and math. A lot of people on this stage vigorously oppose a federal involvement in education. They say it should all be handled locally. President Obama\\'s secretary of education, Arnie Duncan, has said that most of the criticism of Common Core is due to a, quote, \"fringe group of critics.\" Do you think that\\'s accurate?\\nBUSH:\\nNo, I don\\'t. And I don\\'t believe the federal government should be involved in the creation of standards directly or indirectly, the creation of curriculum or content. It is clearly a state responsibility. I\\'m for higher standards... [applause] ...measured in an intellectually honest way, with abundant school choice, ending social promotion. And I know how to do this because as governor of the state of Florida I created the first statewide voucher program in the country, the second statewide voucher program, in the country and the third statewide voucher program in the country. And we had rising student achievement across the board, because high standards, robust accountability, ending social promotion in third grade, real school choice across the board, challenging the teachers union and beating them is the way to go. And Florida\\'s low income kids had the greatest gains inside the country. Our graduation rate improved by 50 percent. That\\'s what I\\'m for.\\nBAIER:\\nSenator Rubio, why is Governor Bush wrong on Common Core?\\nRUBIO:\\nWell, first off, I too believe in curriculum reform. It is critically important in the 21st Century. We do need curriculum reform. And it should happen at the state and local level. That\\'s. . . that\\'s. . . that is where educational policy belongs, because if a parent is unhappy with what their child is being taught in school, they can go to that local school board or their state legislature, or their governor and get it changed. Here\\'s the problem with Common Core. The Department of Education, like every federal agency, will never be satisfied. They will not stop with it being a suggestion. They will turn it into a mandate. In fact, what they will begin to say to local communities is, you will not get federal money unless do you things the way we want you to do it. And they will use Common Core or any other requirements that exists nationally to force it down the throats of our people in our states. [applause]\\nBAIER:\\nAnd do you agree with your old friend?\\nBUSH:\\nHe is definitely my friend. And I think the states ought to create these standards. And if states want to opt out of Common Core, fine. Just make sure your standards are high. Because today in America, a third of our kids, after we spend more per student than any country in the world other than a couple rounding errors, to be honest with you, 30 percent are college- and/or career-ready. If we are going to compete in this world we\\'re in today, there is no possible way we can do it with lowering expectations and dumbing down everything. Children are going to suffer and families\\' hearts are going to be broken that their kids won\\'t be able to get a job in the 21st Century. [applause]\\nBAIER:\\nWe have many more questions coming on a host of topics, here from Quicken Loans Arena in Cleveland. Stay with us. [video clip begins]UNIDENTIFIED\\nMALE:\\nWhat would make stand out as the best choice for the Republican nomination? UNIDENTIFIED\\nMALE:\\nHow do you intend to go about student loan reform? UNIDENTIFIED\\nFEMALE:\\nWhat will be the first thing you will do to stimulate economic growth in our country and bring more jobs to the United States? [video clip ends] [commercial break]\\nBAIER:\\nWe have many more questions coming on a host of topics. Here from Quicken Loans Arena in Cleveland. Stay with us. [video clip begins]UNIDENTIFIED\\nMALE:\\nWhat would make you stand out as the best choice for the Republican nomination? UNIDENTIFIED\\nMALE:\\nHow do you intend to go about student loan reform? UNIDENTIFIED\\nFEMALE:\\nWhat will be the first thing you will do to stimulate economic growth in our country and bring more jobs to the United States? [video clip ends] [commercial break]\\nKELLY:\\nIt\\'s just before 10:00 p.m. on the East Coast. Welcome back to Quicken Loans Arena in Cleveland, Ohio, and the very first Republican primary debate of the 2016 presidential campaign. Ten candidates on the stage, selected based on their standing in five national polls. And tonight they are facing off, answering the questions you want asked. We hope. [laughter]\\nWALLACE:\\nGentlemen, we\\'re obviously digging into some subjects in depth, but we\\'re also going to change it up every once in a while throughout the next hour and have many rounds where we ask, you are not going to like it, only a couple of candidates questions on those subjects. This is the first of the many rounds, and it\\'s about somebody whose name probably hasn\\'t been mentioned enough so far tonight. Governor Kasich, let me start with you. Whoever the Republican nominee -- [applause] Whoever the Republican nominee is, it looks at least for now like whoever that nominee is, he or she, will be facing off against Hillary Clinton. You know how she will come after whoever the Republican nominee is. She will say that you, whoever it is, support the rich while she supports the middle class. That you want to suppress the rights of women and minorities. She wants to move the country forward while you, the Republicans, want to take the country back to the past. How will you, if you\\'re the nominee, how will you answer that and take Hillary Clinton on?\\nKASICH:\\nLet\\'s start off with my father being a mailman. So I understand the concerns of all the folks across this country, some of whom have trouble, you know, making ends meet. But I think she will come in a narrow way. The nominee of this party, if they\\'re going to win, has got to come at it in a big way, which is pro-growth. Which is balancing budgets. You know, we were talking about it. People were saying, could we do it? I was the chairman of the Budget Committee and the lead architect the last time it happened in Washington, and when we did it we had great economic growth, we cut taxes, and we had a big surplus. Economic growth is the key. Economic growth is the key to everything. But once you have economic growth, it is important that we reach out to people who live in the shadows, the people who don\\'t seem to ever think that they get a fair deal. And that includes people in our minority community; that includes people who feel as though they don\\'t have a chance to move up. You know, America is a miracle country. And we have to restore the sense that the \"Amiracle\" will apply to you. Each and every one of the people in this country who\\'s watching tonight, lift everybody, [timer sounds] unite everybody and build a stronger United States of America again. It will be and can be done.\\nWALLACE:\\nI know that all of you would like to answer this question, but we\\'re only going to ask one other candidate before we move on to a different subject, Dr. Carson. Basically, same question to you. If Hillary Clinton is the nominee and she comes at you with that kind of line of attack, how will you take Iraq?\\nCARSON:\\nIf Hillary is the candidate, which I doubt, that would be a dream come true. [laughter] But you know, the fact of the matter is, she is the epitome of the progressive -- the secular progressive movement. And she counts on the fact that people are uninformed, the Alinsky Model, taking advantage of useful idiots. Well, I just happen to believe that people are not stupid. [applause] And the way I will come at it is to educate people, help people to actually understand that it is that progressive movement that is causing them the problems. You know, you look at the -- the national debt and how it\\'s being driven up. If I was trying to destroy this country, what I would do is find a way to drive wedges between all the people, drive the debt to an unsustainable level, and then step off the stage as a world leader and let our enemies increase while we decreased our capacity as a military person. And that\\'s what she\\'s doing. [applause]\\nWALLACE:\\nGentlemen, we\\'re going to turn now to the subject of the economy, jobs and money and the government. And Governor Bush, I\\'m going to start with you. You have made a bold promise in your announcement. You have promised four percent economic growth and 19 million new jobs if you are fortunate enough to serve two terms as president. That many jobs, 19 million, would be triple what your father and your brother accomplished together. And four percent growth, the last president to average that was Lyndon Johnson during the height of the Vietnam War. So question, how on Earth specifically would you pull that off?\\nBUSH:\\nWe\\'ve done it 27 times since World War II. I think we need to lift our spirits and have high, lofty expectations for this great country of ours. The new normal of two percent that the left is saying you can\\'t do anything about is so dangerous for our country. There\\'s 6 million people living in poverty today, more than when Barack Obama got elected. 6.5 million people are working part-time, most of whom want to work full-time. We\\'ve created rules and taxes on top of every aspiration of people, and the net result is we\\'re not growing fast, income\\'s not growing. A four percent growth strategy means you fix a convoluted tax code. You get in and you change every aspect of regulations that are job killers. You get rid of Obamacare and replace it with something that doesn\\'t suppress wages and kill jobs. [applause] You embrace the energy revolution in our country. This president and Hillary Clinton, who can\\'t even say she\\'s for the XL pipeline even after she\\'s left? Give me a break. Of course we\\'re for it. We should be for these things to create high sustained economic growth. And frankly, [timer sounds] fixing our immigration system and turning it into an economic driver is part of this as well. We can do this. [applause]\\nWALLACE:\\nGovernor Walker. [applause] Governor Walker, when you ran for governor of Wisconsin back in 2010, you promised that you would create 250,000 jobs in your first term, first four years. In fact, Wisconsin added barely half that and ranked 35th in the country in job growth. Now you\\'re running for president, and you\\'re promising an economic plan in which everyone will earn a piece of the American dream. Given your record in Wisconsin, why should voters believe you?\\nWALKER:\\nWell, the voters in Wisconsin elected me last year for the third time because they wanted someone who aimed high, not aimed low. Before I came in, the unemployment rate was over eight percent. It\\'s now down to 4.6 percent. We\\'ve more than made up for the jobs that were lost during the recession. And the rate in which people are working is almost five points higher than it is nationally. You know, people like Hillary Clinton think you grow the economy by growing Washington. One report last year showed that six of the top 10 wealthiest counties in America were in or around Washington, D.C.. I think most of us in America understand that people, not the government creates jobs. And one of the best things we can do is get the government out of the way, repeal Obamacare, put in -- reign in all the out of control regulations, put in place an all of the above energy policy, give people the education, the skills that the need to succeed, and lower the tax rate and reform the tax code. That\\'s what I\\'ll do as president, just like I did in Wisconsin. [applause]\\nWALLACE:\\nGovernor Christie, I want to engage you and Governor Huckabee in a subject that is a big issue in both of your campaigns, and that is entitlement reform. You say that you -- to save the system that you want to raise the retirement age -- have to raise the retirement age, and to cut benefits for Social Security and Medicare, and you say that some of the candidates here on the stage are lying. Governor Huckabee says he can save Social Security and Medicare without doing any of that. Is he lying?\\nCHRISTIE:\\nNo, he\\'s not lying, he\\'s just wrong. I mean, so, there\\'s a difference -- I\\'m the only guy on this stage who\\'s put out a detailed, 12 point plan on entitlement reform and here\\'s why -- because 71% of federal spending right now is on entitlements, and debt service, 71%. And we have spent the last hour and five minutes talking about the other 29%, and no time on the 71%, and that makes no sense. Now, let me tell you exactly what we would do on Social Security. Yes, we\\'d raise the retirement age two years, and phase it in over 25 years, that means we\\'d raise it one month a year for 25 years when we\\'re all living longer, and living better lives. Secondly, we would means test Social Security for those who are making over $200,000 dollars a year in retirement income, and have $4 to $5 million dollars in liquid assets saved. They don\\'t need that Social Security check. Social Security is meant to be -- to make sure that no one who\\'s worked hard, and played by the rules, and paid into the system grows old in poverty in America. If we don\\'t deal with this problem, it will bankrupt our country, or lead to massive tax increases, neither one that we want in this country. [applause]\\nWALLACE:\\nGovernor Huckabee? You say that changing entitlements, the kind of thing that Governor Christie is talking about, would be breaking a promise to the American people, and you say that you can keep those programs, save Social Security, save Medicare, without those kinds of reforms through a FairTax, which is a broad tax on consumption. Please explain to Governor Christie how that would work, and how you could save these programs without the kind of painful reforms he says we need?\\nHUCKABEE:\\nWell, let\\'s all be reminded, 60 million Americans are on Social Security, 60 million. A third of those people depend on 90% of their income from Social Security. Nobody in this country is on Social Security because they made the decision when they were starting work at 14 that they wanted to trust some of their money with the government. The government took it out of their check whether they wanted them to or not. And, if person goes to 65, they\\'re going to spend 51 years with the government reaching into their pocket at every paycheck. Now, here\\'s the point, whose fault is it that the system is screwed up? Is it the recipients, or is it the government? And, if Congress wants to mess with the retirement program, why don\\'t we let them start by changing their retirement program, and not have one, instead of talking about getting rid of Social Security and Medicare that was robbed $700 billion dollars to pay for Obamacare. It\\'s always that the government figures that they can do this off the backs of people, many of whom are poor, and depend on that money, and I just think it\\'s fundamentally lying to the people and stealing from them, and we shouldn\\'t be doing it. [applause]\\nCHRISTIE:\\nChris...\\nWALLACE:\\n...Thirty seconds.\\nCHRISTIE:\\nYeah, sure. And, I don\\'t disagree with ending Congress\\' retirement program. I\\'m a governor, I don\\'t have a retirement program in my state, and I don\\'t disagree with that. But, here\\'s the news to the American people, he\\'s complaining about the lying and stealing. The lying and stealing has already occurred. The trust fund is filled with IOU\\'s. We can\\'t fix the problem just by ending Congress\\'s retirement, that\\'s worth about, \"this\" much. We need to go at the fundamental problem, and the fundamental problem is that this system is broken. It has been stolen from. We have been lied to, [timer sounds] and we need a strong leader to tell the truth and fix...\\nWALLACE:\\n...Alright, this is it. Thirty Seconds, finally.\\nHUCKABEE:\\nWell, you ask about how we fund it. One of the reasons that Social Security is in so much trouble is that the only funding stream comes from people who get a wage. The people who get wages is declining dramatically. Most of the income in this country is made by people at the top who get dividends and -- and capital gains. The FairTax transforms the process by which we fund Social Security and Medicare because the money paid in consumption is paid by everybody, including illegals, prostitutes, pimps, drug dealers, all the people [timer sounds] that are freeloading off the system now. [applause] That\\'s why it ought to be a transformed system. [applause]\\nWALLACE:\\nAll right. Enough. [applause] Mr. Trump.\\nKELLY:\\n[off mike] Sounds like somebody\\'s a little R-rated. [applause]\\nWALLACE:\\nMr. Trump, you talk a lot about how you are the person on this stage to grow the economy, I want to ask you about your business records. From corporations, Trump corporations, casinos and hotels, have declared bankruptcy four times over the last quarter-century.\\nUNKNOWN:\\n...In 2011, you told Forbes Magazine this: \"I\\'ve used the laws of the country to my advantage.\" But at the same time, financial experts involved in those bankruptcies say that lenders to your companies lost billions of dollars.Question sir, with that record, why should we trust you to run the nation\\'s business?\\nTRUMP:\\nBecause I have used the laws of this country just like the greatest people that you read about every day in business have used the laws of this country, the chapter laws, to do a great job for my company, for myself, for my employees, for my family, et cetera.I have never gone bankrupt, by the way. I have never.But out of hundreds of deals...\\nWALLACE:\\nNo, but the concept sir...\\nTRUMP:\\nExcuse me. Excuse me.\\nWALLACE:\\n... that\\'s your line, but your companies have gone bankrupt.\\nTRUMP:\\nExcuse me, what am I saying? Out of hundreds of deals that I\\'ve done, hundreds, on four occasions I\\'ve taken advantage of the laws of this country, like other people. I\\'m not going to name their names because I\\'m not going to embarrass, but virtually every person that you read about on the front page of the business sections, they\\'ve used the law.The difference is, when somebody else uses those laws, nobody writes about it. When I use it, they say, \"Trump, Trump, Trump.\" The fact is, I built a net worth of more than $10 billion. I have a great, great company. I employ thousands of people. And I\\'m very proud of the job I did.Again Chris, hundreds and hundreds of deals. Four times, I\\'ve taken advantage of the laws. And frankly, so has everybody else in my position.\\nWALLACE:\\nWell sir, let\\'s just talk about the latest example...[applause]...which is Trump Entertainment Resorts, which went bankrupt in 2009. In that case alone, lenders to your company lost over $1 billion and more than 1,100 people were laid off.\\nTRUMP:\\nWell, I...\\nWALLACE:\\nIs that the way that you\\'d run the country?\\nTRUMP:\\nLet me just tell you about the lenders. First of all, these lenders aren\\'t babies. These are total killers. These are not the nice, sweet little people that you think, OK? [laughter and applause] You know, I mean you\\'re living in a world of the make-believe, Chris, you want to know the truth. [applause] And I had the good sense to leave Atlantic City, which by the way, Caesars just went bankrupt. Every company, Chris can tell you, every company virtually in Atlantic City went bankrupt. [laughter] Every company.And let me just tell you. I had the good sense, and I\\'ve gotten a lot of credit in the financial pages, seven years ago I left Atlantic City before it totally cratered, and I made a lot of money in Atlantic City, and I\\'m very proud of it. I want to tell you that. Very, very proud of it.\\nWALLACE:\\nSo...\\nTRUMP:\\nAnd by the way, this country right now owes $19 trillion. And they need somebody like me to straighten out that mess.[applause]\\nWALLACE:\\nSenator Rubio. Senator Rubio, more than 3,000 people sent us questions about the economy and jobs on Facebook. And here is a video question from Tania Cioloko from Philadelphia. Here she is.[begin video clip]\\nQUESTION:\\nPlease describe one action you would do to make the economic environment more favorable for small businesses and entrepreneurs and anyone dreaming of opening their own business.[close video clip]\\nRUBIO:\\nThat\\'s a great question.\\nWALLACE:\\nSenator, how do you answer Tania?\\nRUBIO:\\nThat\\'s a great question.First of all, it begins by having leaders that recognize that the economy we live in today is dramatically different from the one we had five years ago. It\\'s an economy that now has placed us in global competition with dozens of other countries around the world.Now, the big companies that have connections with Washington, they can affect policies to help them, but the small companies like the one Tania is talking about, they\\'re the ones that are struggling.The first thing we need to do is we need to even out the tax code for small businesses so that we lower their tax rate to 25 percent, just as we need to lower it for all businesses.We need to have a regulatory budget in America that limits the amount of regulations on our economy. We need to repeal and replace Obamacare and we need to improve higher education so that people can have access to the skills they need for 21st century jobs.And last but not least, we need to repeal Dodd-Frank. It is eviscerating small businesses and small banks. [applause] 20 \\x97 over 40 percent of small and mid-size banks that loan money to small businesses have been wiped out over the \\x97 since Dodd-Frank has passed. We need to repeal and replace Dodd-Frank. We need to make America fair again for all businesses, but especially those being run by small business owners.\\nWALLACE:\\nSenator Rubio, thank you. [applause]\\nBAIER:\\nGentlemen, another question for a few of you.Yesterday, just yesterday, President Obama criticized Republican lawmakers trying to block the Iran deal, calling them knee-jerk partisans, adding that hardliners in Iran who chant \"death to America\" were, quote, \"making common cause with the Republican caucus.\" Here\\'s what two of your opponents on the 5 p.m. debate stage said about Iran. [video clip begins]\\nPERRY:\\nI will tell you one thing: I would whole lot rather had Carly Fiorina over there doing our negotiation than John Kerry. Maybe we would\\'ve gotten a deal where we didn\\'t give everything away. But the issue for us is to have a Congress that stands up and says not only no, but hell no, to this money going to a regime that is going to use it for terror... [video clip ends] [video clip begins]\\nFIORINA:\\nWhen America does not lead, the world is a dangerous and a tragic place. This is a bad deal. Obama broke every rule of negotiation. Yes, our allies are not perfect, but Iran is at the heart of most of the evil that is going on in the Middle East through their proxy. [video clip ends]\\nBAIER:\\nNow, I wanna ask a few of you this. First, Governor Walker. You\\'ve said that you would tear up the Iran deal on day one. If this deal is undone, what then?\\nWALKER:\\nWell, first off, let\\'s remember. I still remember, as a kid, tying a yellow ribbon around a tree in front of my house during the 444 days that Iran held 52 Americans hostage. Iran is not a place we should be doing business with. To me, you terminate the deal on day one, you reinstate the sanctions authorized by Congress, you go to Congress and put in place even more crippling sanctions in place, and then you convince our allies to do the same. This is not just bad with Iran, this is bad with ISIS. It is tied together, and, once and for all, we need a leader who\\'s gonna stand up and do something about it. It\\'s yet another example of the failed foreign policy of the Obama-Clinton doctrine. [applause]\\nBAIER:\\nSenator Paul, would you tear up the deal on day one?\\nPAUL:\\nI oppose the Iranian deal, and will vote against it. I don\\'t think that the president negotiated from a position of strength, but I don\\'t immediately discount negotiations. I\\'m a Reagan conservative. Reagan did negotiate with the Soviets. But you have to negotiate from a position of strength, and I think President Obama gave away too much, too early. If there\\'s going to be a negotiation, you\\'re going to have to believe somehow that the Iranians are going to comply. And I asked this question to John Kerry, I said \"do you believe they\\'re trustworthy?\" and he said \"No.\" And I said, \"well, how are we gonna get them to comply?\" I would have never released the sanctions before there was consistent evidence of compliance.\\nBAIER:\\nGovernor Huckabee, what do you think about what Senator Paul just said?\\nHUCKABEE:\\nRonald Reagan said \"trust, but verify.\" President Obama is \"trust, but vilify.\" He trusts our enemies and vilifies everyone who disagrees with him. And the reason we disagree with him has nothing to do with party. [applause] [crosstalk]\\nHUCKABEE:\\nIt has to do with the incredibly dangerous place that this world is gonna be as a result of a deal in which we got nothing. We didn\\'t even get four hostages out. We got nothing, and Iran gets everything they want. We said we would have anywhere, anytime negotiations and inspections, we gave that up. We said that we would make sure that they didn\\'t have any nuclear capacity, we gave that up. The president can\\'t tell us what we got. I\\'ll tell you what the world got. The world has a burgeoning nuclear power that didn\\'t, as the Soviets, say \"we might defend ourselves in a war.\" What the Iranians have said is, \"we will wipe Israel off the face of the map, and we will bring death to America.\" When someone points a gun at your head [timer sounds] and loads it, by God, you ought to take them seriously, and we need to take that seriously.\\nBAIER:\\nThank you, gentlemen.\\nKELLY:\\nWell, the first debate night of the 2016 presidential campaign continues from Cleveland after a short time-out. Stick around. Social issues, next. [commercial break]\\nKELLY:\\nSenator Rubio, you favor a rape and incest exception to abortion bans. Cardinal Timothy Dolan of New York just said yesterday those exceptions are preposterous. He said they discriminate against an entire class of human beings. If you believe that life begins at conception, as you say you do, how do you justify ending a life just because it begins violently, through no fault of the baby?\\nRUBIO:\\nWell, Megyn, first of all, I\\'m not sure that that\\'s a correct assessment of my record. I would go on to add that I believe all--\\nKELLY:\\nYou don\\'t favor a rape and incest exception?\\nRUBIO:\\nI have never said that. And I have never advocated that. What I have advocated is that we pass law in this country that says all human life at every stage of its development is worthy of protection. In fact, I think that law already exists. It is called the Constitution of the United States. [applause] And let me go further. I believe that every single human being is entitled to the protection of our laws, whether they can vote or not. Whether they can speak or not. Whether they can hire a lawyer or not. Whether they have a birth certificate or not. And I think future generations will look back at this history of our country and call us barbarians for murdering millions of babies who we never gave them a chance to live. [applause]\\nKELLY:\\nMr. Trump, in 1999, you said you were, quote, \"very pro- choice.\" Even supporting partial-birth abortion. You favored an assault weapons ban as well. In 2004, you said in most cases you identified as a Democrat. Even in this campaign, your critics say you often sound more like a Democrat than a Republican, calling several of your opponents on the stage things like clowns and puppets. When did you actually become a Republican? [ catcalls]\\nTRUMP:\\nI don\\'t think they like me very much. I\\'ll tell you what. I\\'ve evolved on many issues over the years. And you know who else has? Is Ronald Reagan evolved on many issues. And I am pro-life. And if you look at the question, I was in business. They asked me a question as to pro-life or choice. And I said if you let it run, that I hate the concept of abortion. I hate the concept of abortion. And then since then, I\\'ve very much evolved. And what happened is friends of mine years ago were going to have a child, and it was going to be aborted. And it wasn\\'t aborted. And that child today is a total superstar, a great, great child. And I saw that. And I saw other instances. And I am very, very proud to say that I am pro-life. As far as being a Republican is concerned, I come from a place, New York City, which is virtually, I mean, it is almost exclusively Democrat. And I have really started to see some of the negatives -- as an example, and I have a lot of liking for this man, but the last number of months of [timer sounds] his brother\\'s administration were a catastrophe. And unfortunately, those few months gave us President Obama. And you can\\'t be happy about that. [applause]\\nKELLY:\\nGovernor Bush, I want to ask you, on the subject of name calling of your fellow candidates, a story appeared today quoting an anonymous GOP donor who said you called Mr. Trump a clown, a buffoon, something else that cannot be repeated on television.\\nBUSH:\\nNone of which is true.\\nKELLY:\\nIs it true?\\nBUSH:\\nNo. It\\'s not true. But I have said that Mr. Trump\\'s language is divisive. I want to win. I want one of these people here or the ones at 5:00, to be the next president of the United States. We\\'re not going on win by doing what Barack Obama and Hillary Clinton do each and every day. Dividing the country. Saying, creating a grievance kind of environment. We\\'re going to win when we unite people with a hopeful, optimistic message. I have that message because I was a governor of a state that saw people lifted up, because we had high sustained economic growth. Our economy grew at double the rate of the nation. We created 1.3 million jobs. We led the nation seven out of those eight years. We were only one of two states that went to AAA bond rating. I cut taxes, $19 billion. If you do that and apply conservative principles the right way, you create an environment where everybody rises up. That\\'s how we\\'re going to win. Campaigning in places to give people hope that their life is better because too many people are suffering today in America.\\nKELLY:\\nMr. Trump, 30 seconds.\\nTRUMP:\\nFirst of all, Jeb, I am very happy that you denied that, and I appreciate that very much. He is a true gentleman. He really is. One thing he did say, and I mean that. The one thing he did say about me, however, was my tone. And I also understand that. But when you have people that are cutting Christians\\' heads off, when you have a world that the border and at so many places, that it is medieval times, we\\'ve never -- it almost has to be as bad as it ever was in terms of the violence and the horror, we don\\'t have time for tone. [timer sounds] We have to go out and get the job done. [applause]\\nKELLY:\\nThe subject of gay marriage and religious liberty. Governor Kasich, if you had a son or daughter who was gay or lesbian, how would you explain to them your opposition to same-sex marriage?\\nKASICH:\\nWell, look, I\\'m an old-fashioned person here, and I happen to believe in traditional marriage. But I\\'ve also said the court has ruled --\\nKELLY:\\nHow would you -- how would you explain it to a child?\\nKASICH:\\nWait, Megyn, the court has ruled, and I said we\\'ll accept it. And guess what, I just went to a wedding of a friend of mine who happens to be gay. Because somebody doesn\\'t think the way I do, doesn\\'t mean that I can\\'t care about them or can\\'t love them. So if one of my daughters happened to be that, of course I would love them and I would accept them. Because you know what? [applause] That\\'s what we\\'re taught when we have strong faith. [applause] So the issues like that, issues like that are planted to divide us. I think the simple fact of the matter is, and this is where I would agree with Jeb, and I\\'ve been saying it all along, we need to give everybody a chance, treat everybody with respect, and let them share in this great American dream that we have, Megan. So, look, I\\'m going to love my daughters, I\\'m going to love them no matter what they do. Because, you know what, [timer sounds] God gives me unconditional love. I\\'m going to give it to my family and my friends and the people around me.\\nKELLY:\\nSenator Paul, in the wake of the Supreme Court\\'s ruling on same sex marriage, Carol Fox on Facebook want to know the following. Quote: what will you do to ensure Christians are not prosecuted for speaking out against gay marriage and will Christians be forced to conduct business that conflicts with their religious beliefs?\\nPAUL:\\nLook, I don\\'t want my marriage or my guns registered in Washington. And if people have an opinion, it\\'s a religious opinion that is heartly felt, obviously they should be allowed to practice that and no government should interfere with them. One of the things, one of the things that really got to me was the thing in Houston where you had the government, the mayor actually, trying to get the sermons of ministers. When the government tries to invade the church to enforce its own opinion on marriage, that\\'s when it\\'s time to resist.\\nKELLY:\\nGovernor Walker, many in the Black Lives Matter movement, and beyond, believe that overly-aggressive police officers targeting young African Americans is the civil rights issue of our time. Do you agree? And if so, how do you plan to address it? And if not, why not?\\nWALKER:\\nWell, I think the most important thing we can do when it comes to policing -- it\\'s something you\\'ve had a guest on who\\'s a friend of mine Milwaukee County Sheriff David Clark, who\\'s talked to me about this many times in the past -- it\\'s about training. It\\'s about making sure that law enforcement professionals, not only in the way in to their positions but all the way through their time, have the proper training, particularly when it comes to the use of force. And that we protect and stand up and support those men and women who are doing their jobs in law enforcement. And for the very few that don\\'t, that there are consequences to show that we treat everyone the same here in America.\\nKELLY:\\nThank you.\\nMODERATOR:\\nComing up more of our debate, including questions about President Obama\\'s foreign policy and these guys and their better ideas. Coming up. [commercial break]\\nBAIER:\\nWelcome back to Cleveland. Our next topic is foreign policy. Candidates, you may not have seen the late developing news today our Fox Pentagon team broke earlier this evening about a top Iranian general traveling to Moscow to meet with Russian President Vladimir Putin. His name is General Qassem Soleimani, he\\'s blamed for hundreds of U.S. troop\\'s deaths in Iraq, and Afghanistan. His trip to Russia appears to directly violate U.N. Security Council resolutions to confine him to Iran. So, Mr. Trump, if you were president, how would you respond to this?\\nTRUMP:\\nI would be so different from what you have right now. Like, the polar opposite. We have a president who doesn\\'t have a clue. I would say he\\'s incompetent, but I don\\'t want to do that because that\\'s not nice. [laughter] But if you look at the deals we make, whether it\\'s the nuclear deal with 24 hour periods -- and by the way, before you get to the 24 hours, you have to go through a system. You look at Sgt. Bergdahl, we get Bergdahl, a traitor, and they get five of the big, great killers leaders that they want. We have people in Washington that don\\'t know what they\\'re doing. Now... [applause; scream from audience] I agree. [applause] Now, with Iran, we\\'re making a deal, you would say, we want him. We want out our prisoners. We want all these things, and we don\\'t get anything. We\\'re giving them $150 billion dollars plus, they are going to be -- I\\'ll tell you what, if Iran was a stock, you folks should go out and buy it right now because you\\'ll quadruple -- this, what\\'s happening [timer sounds] in Iran, is a disgrace, and it\\'s going to lead to destruction in large portions of the world. [applause]\\nBAIER:\\nAnother new development today, Senior Defense officials tell Fox they strongly suspect Russia was behind the cyber attack on the Chairman of the Joint Chiefs office... UNIDENTIFIED\\nMALE:\\n...Please.\\nBAIER:\\n...email. This comes in the wake of the Director of National Intelligence blaming the Chinese for the largest ever cyber attack, stealing personal data of tens of millions of Americans. Senator Cruz, in your view, have Russia and China committed acts of cyber war, and if you were president, what would you do about it?\\nCRUZ:\\nWell, Bret, of course they have, and over the last six and a half years we\\'ve seen the consequences of the Obama-Clinton foreign policy. Leading from behind is a disaster. We have abandoned and alienated our friends and allies, and our enemies are stronger. Radical Islam is on the rise, Iran\\'s on the verge of acquiring a nuclear weapon, China is waging cyber warfare against America, Russia -- General Soleimani, you just mentioned, the Iranian general is the head of the al Quds forces. He\\'s directly responsible for the murder of over 500 American servicemen in Iraq, and part of this Iranian deal was lifting the international sanctions on General Soleimani. The day General Soleimani flew back from Moscow to Iran was the day we believed that Russia used cyber warfare against the Joint Chiefs. We need a new commander in chief that will stand up to our enemies, and that will have credibility... [applause] It is worth emphasizing that Iran released our hostages in 1981 the day Ronald Reagan was sworn into office. [applause]\\nBAIER:\\nDr. Carson, in August of 2012 President Obama famously declared Syrian President Bashar al-Assad used chemical weapons, quote, \"that\\'s a redline for us,\" and that there would be enormous consequences. One year later, with overwhelming evidence the Assad had, in fact, used chemical weapons and crossed that red line, President Obama declined to use military force against the Assad regime. As president, would you have used military force there?\\nCARSON:\\nWell, what we have to stop and think about is that we have weakened ourselves militarily to such an extent that if affects all of our military policies. Our Navy is at its smallest size since 1917; our Air Force, since 1940. In recent testimony, the commandant of the Marine Corps said half of the non-deployed units were not ready and you know, the sequester is cutting the heart out of our personnel. Our generals are retiring because they don\\'t want to be part of this, and at the same time, our enemies are increasing. Our -- our friends can\\'t trust us anymore. You know, Ukraine was a nuclear-armed state. They gave away their nuclear arms with the understanding that we would protect them. We won\\'t even give them offensive weapons. You know, we turned our back on Israel, our ally. You know, in a situation like that, of course Obama\\'s not going to be able to do anything. I would shore up our military first, because if you don\\'t get the military right, nothing else is going to work. [applause]\\nBAIER:\\nGovernor Walker, as president, what would you do if Russian President Vladimir Putin started a campaign to destabilize NATO allies Estonia, Latvia, Lithuania, mirroring the actions Putin took at the early days of Ukraine?\\nWALKER:\\nWell first off, for the cyber attack with Russia the other day, it\\'s sad to think right now, but probably the Russian and Chinese government know more about Hillary Clinton\\'s e-mail server than do the members of the United States Congress. [laughter and applause] And -- and that has put our national security at risk. If I am president, he won\\'t think about that. You know, Putin believes in the old Lenin adage: you probe with bayonets. When you find mush, you push. When you find steel, you stop. Under Obama and Clinton, we found a lot of mush over the last two years. We need to have a national security that puts steel in front of our enemies. I would send weapons to Ukraine. I would work with NATO to put forces on the eastern border of Poland and the Baltic nations, and I would reinstate, put in place back in the missile defense system that we had in Poland and in the Czech Republic. [applause] We find steel.\\nBAIER:\\nGovernor -- Governor Huckabee, the culture of the American military is definitely changing. Women are moving into combat roles. Don\\'t Ask, Don\\'t Tell has obviously been dropped. And now Defense Secretary Ashton Carter recently directed the military to prepare for a moment when it is welcoming transgender persons to serve openly. As commander in chief, how would you handle that?\\nHUCKABEE:\\nThe military is not a social experiment. The purpose of the military is kill people and break things. [applause] It\\'s not to transform the culture by trying out some ideas that some people think would make us a different country and more diverse. The purpose is to protect America. I\\'m not sure how paying for transgender surgery for soldiers, sailors, airmen, marines makes our country safer. We\\'ve reduced the military by 25 percent... [applause] ... under President Obama. The disaster is that we\\'ve forgotten why we have a military. The purpose of it is to make sure that we protect every American, wherever that American is, and if an American is calling out for help, whether it\\'s in Benghazi or at the border, then we ought to be able to answer it. We\\'ve not done that because we\\'ve decimated our military. We\\'re flying B-52s. The most recent one that was put in service was November of 1962. A lot of the B-52s we\\'re flying, we\\'ve only got 44 that are in service combat ready, and the fact is, most of them are older than me. And that\\'s pretty scary.  [laughter and applause]\\nBAIER:\\nSenator Paul, the first budget you proposed as senator cut all financial aid to Israel. You have since changed your view on that issue. What made you change your mind.\\nPAUL:\\nWell, let\\'s be clear, I\\'m the only one on the stage who actually has a five-year budget that balances. I\\'ve put pencil to paper...\\nUNKNOWN:\\nI do.\\nPAUL:\\n... and I\\'ve said -- and I\\'ve said I would cut spending, and I\\'ve said exactly where. Each one of my budgets has taken a meat axe to foreign aid, because I think we ought to quit sending it to countries that hate us. [applause] I think we ought to quit sending it to countries that burn our flag. Israel is not one of those. But even Benjamin Netanyahu said that ultimately, they will be stronger when they\\'re independent. My position is exactly the same. We shouldn\\'t borrow money from China to send it anywhere, but why don\\'t we start with eliminating aid to our enemies.\\nBAIER:\\nOK. But you still say that Israel could be one of the countries that is cut from financial aid?\\nPAUL:\\nI still say exactly what my original opinion is. Do you borrow money from China to send it to anyone? Out of your surplus, you can help your allies, and Israel is a great ally. And this is no particular animus of Israel, but what I will say, and I will say over and over again, we cannot give away money we don\\'t have. We do not project power from bankruptcy court. We\\'re borrowing a million dollars a minute. [applause] It\\'s got to stop somewhere.\\nBAIER:\\nGovernor Christie, what do you think of that answer?\\nCHRISTIE:\\nWell, listen. You know, if we want to deal with these issues, we have to deal with them in a way that makes sense. I agree with what Dr. Carson said earlier. The first thing we need to do to make America stronger is to strengthen our military, and I put out a really specific plan: no less than 500,000 active duty soldiers in the Army. No less than 185,000 active duty marines in the Marine Corps. Bring us to a 350 ship Navy again, and modernize the Ohio class of submarines, and bring our Air Force back to 2,600 aircraft that are ready to go. Those are the kind of things that are going to send a clear message around the world. Those are the things that we need to start working on immediately to make our country stronger and make it better. Those are the things that we need to be able to be doing. And as we move towards dealing with foreign aid, I don\\'t disagree with Senator Paul\\'s position that we shouldn\\'t be funding our enemies. But I absolutely believe that Israel is a priority to be able to fund and keep them strong and safe after eight years of this administration. [applause]\\nBAIER:\\nGovernor, thank you.\\nCRUZ:\\nBrett, can I -- Brett, can I jump in on this one?\\nBAIER:\\nSenator, we\\'re going to finish up with some more questions, thank you.\\nKELLY:\\nWe have to stand you by, because after the break, we\\'re going to let the candidates make their closing statements, their final thoughts, and . . . God. Stay tuned for that. [commercial break]\\nKELLY:\\nWelcome back. In our final moments here together, we\\'re going to allow the candidates to offer their final thoughts. But first, we want to ask them an interesting closing question from Chase Norton on Facebook, who wants to know this of the candidates: \"I want to know if any of them have received a word from God on what they should do and take care of first.\" Senator Cruz, start from you. Any word from God?\\nCRUZ:\\nWell, I am blessed to receive a word from God every day in receiving the scriptures and reading the scriptures. And God speaks through the Bible. [applause] I\\'m the son of a pastor and evangelist and I\\'ve described many times how my father, when I was a child, was an alcoholic. He wasn\\'t a Christian. And my father left my mother and left me when I was just three years old. And someone invited him to Clay Road Baptist Church. And he gave his heart to Jesus and it turned him around. And he got on a plane and he flew back to my mother and me. [applause] I would also note that the scripture tells us, \"you shall know them by their fruit.\" We see lots of \"campaign conservatives.\" But if we\\'re going to win in 2016, we need a consistent conservative, someone who has been a fiscal conservative, a social conservative, a national security conservative. There are real differences among the candidates on issues like amnesty, like Obamacare, like religious liberty, like life and marriage. And I have been proud to fight and stand for religious liberty, to stand against Planned Parenthood, to defend life for my entire career. And I will be proud to continue to do so as president of the United States. [cheering and applause]\\nKELLY:\\nGovernor Kasich, same question.\\nKASICH:\\nWell, Megyn, my father was a mailman. His father was a coal miner. My mother\\'s mother could barely speak English. And their son today stands on this podium in the great state of Ohio not only as the governor, but a candidate for president of the United States. [cheering and applause] I do believe in miracles. You know, I\\'ve had a lot of elections. But my elections are really not about campaigns. I tell my people that these are about a movement. And a movement to do what? To restore common sense. A movement to do things like provide economic growth. And a movement not to let anybody be behind. You know, today the country is divided. You asked a question about the police and the difficulty in communities. We\\'ve got to unite our country again, because we\\'re stronger when we are united and we are weaker when we are divided. And we\\'ve got to listen to other people\\'s voices, respect them, but keep in mind, and I believe in terms of the things that I\\'ve read in my lifetime, the Lord\\'is not picking us. But because of how we respect human rights, because that we are a good force in the world, he wants America to be strong. He wants America to succeed. And he wants America to lead. And nothing is more important to me than my family, my faith, and my friends. [cheering and applause]\\nKELLY:\\nGovernor Walker, same question.\\nWALKER:\\nWell, thanks, Megyn. I\\'m certainly an imperfect man. And it\\'s only by the blood of Jesus Christ that I\\'ve been redeemed from my sins. So I know that God doesn\\'t call me to do a specific thing, God hasn\\'t given me a list, a Ten Commandments, if you will, of things to act on the first day. What God calls us to do is follow his will. And ultimately that\\'s what I\\'m going to try to do. And I hope people\\'ve seen it in my state, even in the big challenges I took on when I had over 100,000 protesters in and around our capital, trying to do what I thought was the right thing. It wasn\\'t just how I took on those political battles. It was ultimately how I acted. Not responding in kind. Not lashing out. But just being decent going forward and living my life in a way that would be a testimony to him and our faith. [applause]\\nKELLY:\\nSenator Rubio, I want to ask you the same question. But I do want to mention, a woman just came here to the stage and asked, what about the veterans? I want to hear more about what these candidates are going to do for our nation\\'s veterans. So I put the question to you about God and the veterans, which you may find to be related.\\nRUBIO:\\nWell, first, let me say I think God has blessed us. He has blessed the Republican Party with some very good candidates. The Democrats can\\'t even find one. [laughter] [cheering and applause] And I believe God has blessed our country. This country has been extraordinarily blessed. And we have honored that blessing. And that\\'s why God has continued to bless us. And he has blessed us with young men and women willing to risk their lives and sometimes die in uniform for the safety and security of our people. Unfortunately today we have a VA that does not do enough for them. I am proud that last year we helped change the law. We changed the law to give the power to the VA secretary the ability to fire any executive that isn\\'t doing their job. And it is outrageous they\\'ve only fired one person to date. When I\\'m president of the United States, we\\'re going to have a VA that cares more about our veterans than about the bureaucrats who work at the VA. [cheering and applause]\\nKELLY:\\nDr. Carson, a question to you about God and his role, but also, one of the issues that the public was very interested in, and we touched on it earlier, is race relations in this country, and how divided we seem right now. And what, if anything, you can do -- you would do as the next president to help heal that divide.\\nCARSON:\\nWell, I think the bully pulpit is a wonderful place to start healing that divide. You know, we have the purveyors of hatred who take every single incident between people of two races and try to make a race war out of it, and drive wedges into people. And this does not need to be done. What we need to think about instead -- you know, I was asked by an NPR reporter once, why don\\'t I talk about race that often. I said it\\'s because I\\'m a neurosurgeon. And she thought that was a strange response. And you say -- I said, you see, when I take someone to the operating room, I\\'m actually operating on the thing that makes them who they are. The skin doesn\\'t make them who they are. The hair doesn\\'t make them who they are. And it\\'s time for us to move beyond that. [applause] Because...[applause]...our strength as a nation comes in our unity. We are the United States of America, not the divided states. And those who want to destroy us are trying to divide us, and we shouldn\\'t let them do it. [applause]\\nBAIER:\\nNow each candidate will make a closing statement. You\\'ll all have 30 seconds to make a closing statement for this debate. We\\'ll start with Ohio Governor John Kasich.\\nKASICH:\\nYou know, tonight we hear about what people want to do. I want to tell you what I\\'ve done. I was a member of the Armed Services Committee for 18 years. I spent a big chunk of my life studying national security issues and our role in the world. No. 2. I was the chairman of the House Budget Committee and one of the chief architects the last time we balanced a budget, and it was the first time we had done it since man walked on the moon. We had a $5 trillion surplus and we cut taxes. I spent ten years in the private sector, actually learning how business works. And now I\\'m the governor of Ohio, and I inherited a state that was on the brink [timer sounds] of dying. And we turned it all around with jobs and balanced budgets and rising credit and tax cuts, and the state is unified, and people have hope again in Ohio. [applause]\\nKELLY:\\nGovernor Christie?\\nCHRISTIE:\\nWell, thank you, Megyn. Listen, I was born into a middle class family in New Jersey. My dad came home from serving in the Army after having lost his father, worked in the Breyers ice cream plant in Newark, New Jersey. Was the first person to graduate from college. He put himself through college at night. My mom was a secretary. I was appointed United States attorney on September 10, 2001. And I spent the next seven years of my career fighting terrorism and putting terrorists in jail. I\\'m a conservative, pro-life governor in a state where it is really tough to be both. A state like New Jersey, with lots of Democrats, but still we cut taxes, we balanced budgets. We fought [timer sounds] the teacher\\'s union. This president has had weak leadership, which has led to bad choices. We have got to stop worrying about being loved and start worrying about being respected. And that\\'s exactly how I\\'ll lead our country. [applause]\\nWALLACE:\\nSenator Paul, closing statement.\\nPAUL:\\nI\\'m a different kind of Republican. I\\'ve introduced a five-year balanced budget. I\\'ve introduced the largest tax cut in our history. I stood for ten and a half hours on the Senate floor to defend your right to be left alone. [applause] But I\\'ve also gone to Chicago. I\\'ve gone to Detroit. I\\'ve been to Ferguson, I\\'ve been to Baltimore, because I want our party to be bigger, better and bolder, and I\\'m the only one that leads Hillary Clinton in five states that were won by President Obama. I\\'m a different kind of Republican. [applause]\\nBAIER:\\nSenator Marco Rubio.\\nRUBIO:\\nThank you. You know, both of my parents were born into poor families on the island of Cuba. They came to America because it was the only place where people like them could have a chance. Here in this country, they never made it big, but the very purpose of their life was to give us the chance to do all the things they never could. My father was a bartender. And the journey from the back of that bar to this stage tonight, to me, that is the essence of the American dream. It is what makes our nation different. And I\\'m running for president because I want that to still be possible for the people trying to do that now. I run for president because I believe that we can\\'t just save the American dream; we can expand it to reach more people and change more lives than ever before. And that\\'s why I\\'m asking for your vote. So we can make America greater than it has ever been. And make of this century a new American century. [applause]\\nBAIER:\\nThank you, Senator.\\nKELLY:\\nSenator Ted Cruz.\\nCRUZ:\\nIf I\\'m elected president, let me tell you about my first day in office. The first thing I intend to do is to rescind every illegal and unconstitutional executive action taken by Barack Obama. [applause] The next thing I intend to do is instruct the Department of Justice to open an investigation into these videos and to prosecute Planned Parenthood for any criminal violations. [applause] The next thing I intend to do is instruct the Department of Justice and the IRS to start (sic) persecuting religious liberty, and then intend to cancel the Iran deal, and finally move the U.S. embassy in Israel to Jerusalem. [applause] I will keep my word. My father fled Cuba, and I will fight to defend liberty because my family knows what it\\'s like to lose it.\\nWALLACE:\\nDr. Carson, closing statement.\\nCARSON:\\nWell, I haven\\'t said anything about me being the only one to do anything, so let me try that. I\\'m the only one to separate Siamese twins...[laughter] The -- the only one to operate on babies while they were still in mother\\'s womb, the only one to take out half of a brain, although you would think, if you go to Washington, that someone had beat me to it. [laughter] But I -- but I\\'m very hopeful that I\\'m not the only one who\\'s willing to pick up the baton of freedom, because freedom is not free, and we must fight for it every day. Every one of us must fight for it, because we\\'re fighting for our children and the next generation. [applause]\\nBAIER:\\nGovernor Mike Huckabee, closing statement.\\nHUCKABEE:\\nIt seems like this election has been a whole lot about a person who\\'s very high in the polls, that doesn\\'t have a clue about how to govern. A person who has been filled with scandals, and who could not lead, and, of course, I\\'m talking about Hillary Clinton. [laughter] I think America...\\nUNKNOWN:\\nThank you.\\nHUCKABEE:\\n...is in trouble, but it\\'s not beyond repair. But it\\'s going to take leadership who sees the greatness of this country, and who believes that once again we can be one nation, under God. I\\'ll be my best to do that, and thank you for your support. [applause]\\nKELLY:\\nGovernor Scott Walker.\\nWALKER:\\nThanks. I\\'m guy with a wife and two kids, and Harley. One article called me \"aggressively normal.\" I ran for governor because I was worried about my kids\\' future. Then, I took on the big government union bosses, and we won. They tried to recall me, and we won. They target us again, and we won. We balanced the budget, cut taxes, and turned our state around with big, bold reforms. It wasn\\'t too late for Wisconsin, and it\\'s not too late for America. That\\'s why I ask for your vote.\\nWALLACE:\\nGovernor Bush, closing statement, sir.\\nBUSH:\\nHere\\'s what I believe. I believe we\\'re at the verge of the greatest time to be alive in this world. But Washington is holding us back. How we tax, how we regulate. We\\'re not embracing the energy revolution in our midst, a broken immigration system that has been politicized rather than turning it into an economic driver. We\\'re not protecting and preserving our entitlement system or reforming for the next generation. All these things languish while we have politicians in Washington using these as wedge issues. Here\\'s my commitment to you, because I did it as Florida. We can fix these things. We can grow economically and restore America\\'s leadership in the world, so that everybody has a chance to rise up. I humbly ask for your vote, whenever you\\'re gonna get to vote, whenever the primary is. Thank you all very much.\\nBAIER:\\nMr. Trump, closing statement, sir.\\nTRUMP:\\nOur country is in serious trouble. We don\\'t win anymore. We don\\'t beat China in trade. We don\\'t beat Japan, with their millions and millions of cars coming into this country, in trade. We can\\'t beat Mexico, at the border or in trade. We can\\'t do anything right. Our military has to be strengthened. Our vets have to be taken care of. We have to end Obamacare, and we have to make our country great again, and I will do that. Thank you.\\nBAIER:\\nGentlemen, thank you.\\nKELLY:\\nIt\\'s over!\\nBAIER:\\nThat\\'s it.\\nKELLY:\\nAre you relieved? You were nervous before, they -- they don\\'t look relieved. They look \"get me outta here.\" Thank you all very much, and that will do it for the first Republican primary debate night of the 2016 presidential race. Our thanks to the candidates, who will now be joined by their families on stage.\\n'"
      ]
     },
     "execution_count": 13,
     "metadata": {},
     "output_type": "execute_result"
    }
   ],
   "source": [
    "d"
   ]
  },
  {
   "cell_type": "code",
   "execution_count": 13,
   "metadata": {
    "collapsed": false
   },
   "outputs": [
    {
     "data": {
      "text/plain": [
       "(316, 316)"
      ]
     },
     "execution_count": 13,
     "metadata": {},
     "output_type": "execute_result"
    }
   ],
   "source": [
    "turns = []\n",
    "debate_turns = re.split(\"[A-Z]+:\",d)\n",
    "turns += debate_turns[3:]\n",
    "applause = []\n",
    "for turn in turns:\n",
    "    if '[applause]' in turn:\n",
    "        applause.append('1')\n",
    "    else:\n",
    "        applause.append('0')\n",
    "len(applause), len(turns)"
   ]
  },
  {
   "cell_type": "code",
   "execution_count": 25,
   "metadata": {
    "collapsed": true
   },
   "outputs": [],
   "source": [
    "r_applause_dict = {'applause': applause, 'turn': turns}\n",
    "r_applause_df = pd.DataFrame(r_applause_dict)\n",
    "r_applause_df.to_csv('data/first_r_applause.csv', encoding='utf-8', index_col=False)"
   ]
  },
  {
   "cell_type": "code",
   "execution_count": 43,
   "metadata": {
    "collapsed": true
   },
   "outputs": [],
   "source": [
    "turns = []\n",
    "for debate in r_debates:\n",
    "    debate_turns = re.split(\"[A-Z]+:\",debate)\n",
    "    turns += debate_turns[3:]"
   ]
  },
  {
   "cell_type": "code",
   "execution_count": 46,
   "metadata": {
    "collapsed": false
   },
   "outputs": [],
   "source": [
    "applause = []\n",
    "for turn in turns:\n",
    "    if '[applause]' in turn:\n",
    "        applause.append('1')\n",
    "    else:\n",
    "        applause.append('0')"
   ]
  },
  {
   "cell_type": "code",
   "execution_count": 47,
   "metadata": {
    "collapsed": false
   },
   "outputs": [
    {
     "data": {
      "text/plain": [
       "(4749, 4749)"
      ]
     },
     "execution_count": 47,
     "metadata": {},
     "output_type": "execute_result"
    }
   ],
   "source": [
    "len(applause), len(turns)"
   ]
  },
  {
   "cell_type": "code",
   "execution_count": 48,
   "metadata": {
    "collapsed": true
   },
   "outputs": [],
   "source": [
    "r_applause_dict = {'applause': applause, 'turn': turns}\n",
    "r_applause_df = pd.DataFrame(r_applause_dict)\n",
    "r_applause_df.to_csv('data/r_applause.csv', encoding='utf-8')"
   ]
  },
  {
   "cell_type": "code",
   "execution_count": 97,
   "metadata": {
    "collapsed": true
   },
   "outputs": [],
   "source": [
    "import httplib2, argparse, os, sys, json\n",
    "from oauth2client import tools, file, client\n",
    "from oauth2client.service_account import ServiceAccountCredentials\n",
    "from googleapiclient import discovery\n",
    "from googleapiclient.errors import HttpError\n",
    "\n",
    "#Project and model configuration\n",
    "project_id = '176776777821'\n",
    "model_id = 'first-republican-debate-model'\n",
    "storageDataLocation = 'applause-prediction/first_r_applause.csv'\n",
    "# model_id = 'republican-debate-model'\n",
    "# storageDataLocation = 'applause-prediction/r_applause.csv'\n",
    "\n",
    "#activity labels\n",
    "labels = {\n",
    "    '0': 'No Applause', '1': 'Applause' \n",
    "}\n",
    "\n",
    "def main():\n",
    "    \"\"\" Simple logic: train and make prediction \"\"\"\n",
    "    analysis = ''\n",
    "    try:\n",
    "        train_model()\n",
    "        analysis = make_prediction()\n",
    "    except HttpError as e: \n",
    "        if e.resp.status == 404: #model does not exist\n",
    "            print(\"Model does not exist yet.\")\n",
    "            train_model()\n",
    "            analysis = make_prediction()\n",
    "        else: #real error\n",
    "            print(e)\n",
    "    return analysis\n",
    "\n",
    "\n",
    "def make_prediction(model_id):\n",
    "    \"\"\" Use trained model to generate a new prediction \"\"\"\n",
    "\n",
    "    api = get_prediction_api()\n",
    "\n",
    "    print(\"Fetching model.\")\n",
    "\n",
    "    model = api.trainedmodels().get(project=project_id, id=model_id).execute()\n",
    "\n",
    "    if model.get('trainingStatus') != 'DONE':\n",
    "        print(\"Model is (still) training. \\nPlease wait and run me again!\") #no polling\n",
    "        return None\n",
    "\n",
    "    else:\n",
    "        print(\"Model is ready.\")\n",
    "\n",
    "    \n",
    "    #Optionally analyze model stats (big json!)\n",
    "        analysis = api.trainedmodels().analyze(project=project_id, id=model_id).execute()\n",
    "    #print(analysis)\n",
    "    #exit()\n",
    "    \n",
    "        return analysis\n",
    "    \n",
    "    '''\n",
    "    #read new record from local file\n",
    "    with open('./data/records_100.csv') as f:\n",
    "        record = f.readline().split(',') #csv\n",
    "\n",
    "    #obtain new prediction\n",
    "    prediction = api.trainedmodels().predict(project=project_id, id=model_id, body={\n",
    "        'input': {\n",
    "            'csvInstance': record\n",
    "        },\n",
    "    }).execute()\n",
    "\n",
    "    #retrieve classified label and reliability measures for each class\n",
    "    label = prediction.get('outputLabel')\n",
    "    stats = prediction.get('outputMulti')\n",
    "\n",
    "    #show results\n",
    "    print(\"You are currently %s (class %s).\" % (labels[label], label) ) \n",
    "    print(stats)\n",
    "    '''\n",
    "\n",
    "\n",
    "def train_model(model_id, storageDataLocation):\n",
    "    \"\"\" Create new classification model \"\"\"\n",
    "\n",
    "    api = get_prediction_api()\n",
    "\n",
    "    print(\"Creating new Model.\")\n",
    "\n",
    "    api.trainedmodels().insert(project=project_id, body={\n",
    "        'id': model_id,\n",
    "        'storageDataLocation': storageDataLocation,\n",
    "        'modelType': 'CLASSIFICATION'\n",
    "    }).execute()\n",
    "\n",
    "\n",
    "def get_prediction_api(service_account=True):\n",
    "    scope = [\n",
    "        'https://www.googleapis.com/auth/prediction',\n",
    "        'https://www.googleapis.com/auth/devstorage.read_only'\n",
    "    ]\n",
    "    return get_api('prediction', scope, service_account)\n",
    "\n",
    "\n",
    "def get_api(api, scope, service_account=True):\n",
    "    \"\"\" Build API client based on oAuth2 authentication \"\"\"\n",
    "    \n",
    "    credentials = ServiceAccountCredentials.from_p12_keyfile(\n",
    "        'presidents-1333@appspot.gserviceaccount.com',\n",
    "        './presidents-9f2b47beb322.p12', \n",
    "        scopes=scope\n",
    "    )\n",
    "\n",
    "    #wrap http with credentials\n",
    "    http = credentials.authorize(httplib2.Http())\n",
    "    return discovery.build(api, \"v1.6\", http=http)\n"
   ]
  },
  {
   "cell_type": "code",
   "execution_count": 95,
   "metadata": {
    "collapsed": true
   },
   "outputs": [],
   "source": [
    "# model_id = 'first-republican-debate-model'\n",
    "# storageDataLocation = 'applause-prediction/first_r_applause.csv'\n",
    "model_id = 'republican-debate-model'\n",
    "storageDataLocation = 'applause-prediction/r_applause.csv'"
   ]
  },
  {
   "cell_type": "code",
   "execution_count": 98,
   "metadata": {
    "collapsed": false
   },
   "outputs": [
    {
     "name": "stdout",
     "output_type": "stream",
     "text": [
      "Creating new Model.\n"
     ]
    }
   ],
   "source": [
    "train_model(model_id, storageDataLocation)"
   ]
  },
  {
   "cell_type": "code",
   "execution_count": 112,
   "metadata": {
    "collapsed": false
   },
   "outputs": [
    {
     "name": "stdout",
     "output_type": "stream",
     "text": [
      "Fetching model.\n",
      "Model is ready.\n"
     ]
    }
   ],
   "source": [
    "model_id = 'republican-debate-model'\n",
    "storageDataLocation = 'applause-prediction/r_applause.csv'\n",
    "big_republican_analysis = make_prediction(model_id)"
   ]
  },
  {
   "cell_type": "code",
   "execution_count": 115,
   "metadata": {
    "collapsed": false
   },
   "outputs": [
    {
     "data": {
      "text/plain": [
       "{u'dataDescription': {u'features': [{u'index': u'0',\n",
       "    u'text': {u'count': u'5681'}}],\n",
       "  u'outputFeature': {u'numeric': {u'count': u'4748',\n",
       "    u'mean': u'0.18',\n",
       "    u'variance': u'0.15'},\n",
       "   u'text': [{u'count': u'1', u'value': u'-- this campaign'},\n",
       "    {u'count': u'1', u'value': u'... O.K.'},\n",
       "    {u'count': u'1', u'value': u'... on defeating our enemies. So'},\n",
       "    {u'count': u'1', u'value': u\"... that's your line\"},\n",
       "    {u'count': u'1', u'value': u'... when we join together. Thank you'},\n",
       "    {u'count': u'1', u'value': u'...I remember'},\n",
       "    {u'count': u'3889', u'value': u'0'},\n",
       "    {u'count': u'859', u'value': u'1'},\n",
       "    {u'count': u'1', u'value': u'A complete disaster'},\n",
       "    {u'count': u'1', u'value': u'A little of your own medicine there'},\n",
       "    {u'count': u'2', u'value': u'Actually'},\n",
       "    {u'count': u'9', u'value': u'All right'},\n",
       "    {u'count': u'1',\n",
       "     u'value': u\"All right. Obviously there's a lot more to talk about this. We're going to have more questions for the candidates on illegal immigration\"},\n",
       "    {u'count': u'1', u'value': u'Am I talking or are you talking'},\n",
       "    {u'count': u'1', u'value': u'Another new development today'},\n",
       "    {u'count': u'1', u'value': u'Are you going to apologize'},\n",
       "    {u'count': u'1',\n",
       "     u'value': u'Bernie Sanders has said he would have a litmus test. He would make sure that he appointed a justice who was going to overturn Citizens United. If they can have a litmus test for a nominee'},\n",
       "    {u'count': u'1', u'value': u'Brett -- Brett'},\n",
       "    {u'count': u'1',\n",
       "     u'value': u'But the point is that we all have solutions. Mr. Trump is touching a nerve because people want the wall to be built. They want to see an end to illegal immigration. They want to see it'},\n",
       "    {u'count': u'1', u'value': u'Coming up more of our debate'},\n",
       "    {u'count': u'3', u'value': u'Dana'},\n",
       "    {u'count': u'1',\n",
       "     u'value': u'Do I get to do it five or six times or just once'},\n",
       "    {u'count': u'6', u'value': u'Donald'},\n",
       "    {u'count': u'18', u'value': u'Dr. Carson'},\n",
       "    {u'count': u'1', u'value': u'Eighty years of not confirming. For example'},\n",
       "    {u'count': u'2', u'value': u'Excuse me'},\n",
       "    {u'count': u'2', u'value': u'For the record'},\n",
       "    {u'count': u'3', u'value': u'Gentleman'},\n",
       "    {u'count': u'4', u'value': u'Gentlemen'},\n",
       "    {u'count': u'19', u'value': u'Go ahead'},\n",
       "    {u'count': u'10', u'value': u'Governor'},\n",
       "    {u'count': u'7', u'value': u'Governor Bush'},\n",
       "    {u'count': u'6', u'value': u'Governor Christie'},\n",
       "    {u'count': u'1', u'value': u'Governor Huckabee'},\n",
       "    {u'count': u'16', u'value': u'Governor Kasich'},\n",
       "    {u'count': u'1', u'value': u'Governor Mike Huckabee'},\n",
       "    {u'count': u'3', u'value': u'Governor Walker'},\n",
       "    {u'count': u'1', u'value': u'Governor \\u2014 thank you'},\n",
       "    {u'count': u'1', u'value': u'Hey'},\n",
       "    {u'count': u'1',\n",
       "     u'value': u\"Hold on. We're going to -- we're going to move on. [crosstalk] We'll come back to you\"},\n",
       "    {u'count': u'1',\n",
       "     u'value': u'How did he keep us safe when the World Trade Center \\u2014 the World \\u2014 excuse me. I lost hundreds of friends. The World Trade Center came down during the reign of George Bush. He kept us safe? That is not safe. That is not safe'},\n",
       "    {u'count': u'1', u'value': u'Hugh Hewitt'},\n",
       "    {u'count': u'1',\n",
       "     u'value': u'I am sick and tired of him going after my family. My dad is the greatest man alive in my mind. [applause] And while Donald Trump was building a reality TV show'},\n",
       "    {u'count': u'1', u'value': u\"I think it's my turn\"},\n",
       "    {u'count': u'1', u'value': u'I wish it was always this easy as you'},\n",
       "    {u'count': u'1',\n",
       "     u'value': u\"I'm rescinding the invitation. I thought you might want to come\"},\n",
       "    {u'count': u'1',\n",
       "     u'value': u\"I'm the only one who is going to save Social Security\"},\n",
       "    {u'count': u'1', u'value': u'If I was mentioned in the question'},\n",
       "    {u'count': u'1',\n",
       "     u'value': u'It sounds more and more what my daughter said that I said in the beginning'},\n",
       "    {u'count': u'1', u'value': u'Jump in'},\n",
       "    {u'count': u'1', u'value': u'Just one at a time'},\n",
       "    {u'count': u'2', u'value': u'Just to be clear'},\n",
       "    {u'count': u'1', u'value': u'Ladies and gentleman'},\n",
       "    {u'count': u'1', u'value': u'Let me tell you something'},\n",
       "    {u'count': u'1', u'value': u'Listening to this'},\n",
       "    {u'count': u'2', u'value': u'Megyn'},\n",
       "    {u'count': u'24', u'value': u'Mr. Trump'},\n",
       "    {u'count': u'1',\n",
       "     u'value': u\"My name is Carla Hernandez. I'm from the University of Texas at Austin. And my question is directed to all the candidates.If the Bible clearly states that we need to embrace those in need and not fear\"},\n",
       "    {u'count': u'1', u'value': u'Neurosurgeon'},\n",
       "    {u'count': u'1', u'value': u'News flash'},\n",
       "    {u'count': u'23', u'value': u'No'},\n",
       "    {u'count': u'1',\n",
       "     u'value': u\"Not me. [laughter]  But you're welcome to give me a check\"},\n",
       "    {u'count': u'1',\n",
       "     u'value': u'O.K. But how would you actually do that? Can I ask you? Because right now'},\n",
       "    {u'count': u'8', u'value': u'OK'},\n",
       "    {u'count': u'9', u'value': u'Oh'},\n",
       "    {u'count': u'1', u'value': u'Okay.Senator Cruz. Senator Cruz'},\n",
       "    {u'count': u'1', u'value': u'One at a time. Hugh'},\n",
       "    {u'count': u'1', u'value': u'Respectfully'},\n",
       "    {u'count': u'1', u'value': u'See'},\n",
       "    {u'count': u'9', u'value': u'Senator'},\n",
       "    {u'count': u'16', u'value': u'Senator Cruz'},\n",
       "    {u'count': u'12', u'value': u'Senator Paul'},\n",
       "    {u'count': u'18', u'value': u'Senator Rubio'},\n",
       "    {u'count': u'1',\n",
       "     u'value': u\"Senator Rubio \\u2014 I'm going to go to Senator Rubio and get his thoughts.You have said banning Muslims is unconstitutional. But according to a recent ABC News-Washington Post poll\"},\n",
       "    {u'count': u'1', u'value': u'Senator \\u2014 Senator \\u2014 Senator Rubio'},\n",
       "    {u'count': u'1', u'value': u'So tonight'},\n",
       "    {u'count': u'1',\n",
       "     u'value': u'So who do you side with? Who do you side with in this'},\n",
       "    {u'count': u'3', u'value': u'Sorry'},\n",
       "    {u'count': u'1',\n",
       "     u'value': u'Standby. Everybody standby for a moment. Governor Kasich'},\n",
       "    {u'count': u'1', u'value': u'Ted'},\n",
       "    {u'count': u'127', u'value': u'Thank you'},\n",
       "    {u'count': u'1', u'value': u'Thank you. [crosstalk]Hugh Hewitt'},\n",
       "    {u'count': u'1', u'value': u'Thank you.Dana Bash'},\n",
       "    {u'count': u'1',\n",
       "     u'value': u\"Thank you.Everyone stand by. We're only just beginning. Coming up\"},\n",
       "    {u'count': u'1', u'value': u'Thank you.Governor Christie'},\n",
       "    {u'count': u'2', u'value': u'Thank you.Governor Kasich'},\n",
       "    {u'count': u'1',\n",
       "     u'value': u\"The World Trade Center came down during your brother's reign\"},\n",
       "    {u'count': u'1',\n",
       "     u'value': u'These are the rules all of you agreed to.Hugh'},\n",
       "    {u'count': u'1',\n",
       "     u'value': u'They do not need to be forced. They need to be asked to bring the best and brightest'},\n",
       "    {u'count': u'1',\n",
       "     u'value': u'They take up two-thirds of the federal budget'},\n",
       "    {u'count': u'2', u'value': u'Thirty seconds'},\n",
       "    {u'count': u'1',\n",
       "     u'value': u\"We have a lot to discuss. I want to move to Mr. Trump right now. We have a question on this war against ISIS and how you would fight and win this war. Here's the question from Facebook. Listen to this.[start video]JOSH JACOB\"},\n",
       "    {u'count': u'1',\n",
       "     u'value': u'We have many more questions coming on a host of topics'},\n",
       "    {u'count': u'1',\n",
       "     u'value': u\"We're going to talk about Assad in a moment.Mr. Trump\"},\n",
       "    {u'count': u'27', u'value': u'Well'},\n",
       "    {u'count': u'1', u'value': u'When you -- you know'},\n",
       "    {u'count': u'4', u'value': u'Wolf'},\n",
       "    {u'count': u'7', u'value': u'Yes'},\n",
       "    {u'count': u'1',\n",
       "     u'value': u'You do whatever you want. You call it whatever you want. I want to tell you. They lied. They said there were weapons of mass destruction'},\n",
       "    {u'count': u'1', u'value': u\"You'll have plenty of opportunity.Hugh\"}]}},\n",
       " u'errors': [{u'WARNING': u\"Too few instances for class '-- this campaign': have 1 instance, require at least 2.\"},\n",
       "  {u'WARNING': u\"Too few instances for class '... O.K.': have 1 instance, require at least 2.\"},\n",
       "  {u'WARNING': u\"Too few instances for class '... on defeating our enemies. So': have 1 instance, require at least 2.\"},\n",
       "  {u'WARNING': u\"Too few instances for class '... that's your line': have 1 instance, require at least 2.\"},\n",
       "  {u'WARNING': u\"Too few instances for class '... when we join together. Thank you': have 1 instance, require at least 2.\"},\n",
       "  {u'WARNING': u\"Too few instances for class '...I remember': have 1 instance, require at least 2.\"},\n",
       "  {u'WARNING': u\"Too few instances for class 'A complete disaster': have 1 instance, require at least 2.\"},\n",
       "  {u'WARNING': u\"Too few instances for class 'A little of your own medicine there': have 1 instance, require at least 2.\"},\n",
       "  {u'WARNING': u\"Too few instances for class 'All right. Obviously there's a lot more to talk about this. We're going to have more questions for the candidates on illegal immigration': have 1 instance, require at least 2.\"},\n",
       "  {u'WARNING': u\"Too few instances for class 'Am I talking or are you talking': have 1 instance, require at least 2.\"},\n",
       "  {u'WARNING': u\"Too few instances for class 'Another new development today': have 1 instance, require at least 2.\"},\n",
       "  {u'WARNING': u\"Too few instances for class 'Are you going to apologize': have 1 instance, require at least 2.\"},\n",
       "  {u'WARNING': u\"Too few instances for class 'Bernie Sanders has said he would have a litmus test. He would make sure that he appointed a justice who was going to overturn Citizens United. If they can have a litmus test for a nominee': have 1 instance, require at least 2.\"},\n",
       "  {u'WARNING': u\"Too few instances for class 'Brett -- Brett': have 1 instance, require at least 2.\"},\n",
       "  {u'WARNING': u\"Too few instances for class 'But the point is that we all have solutions. Mr. Trump is touching a nerve because people want the wall to be built. They want to see an end to illegal immigration. They want to see it': have 1 instance, require at least 2.\"},\n",
       "  {u'WARNING': u\"Too few instances for class 'Coming up more of our debate': have 1 instance, require at least 2.\"},\n",
       "  {u'WARNING': u\"Too few instances for class 'Do I get to do it five or six times or just once': have 1 instance, require at least 2.\"},\n",
       "  {u'WARNING': u\"Too few instances for class 'Eighty years of not confirming. For example': have 1 instance, require at least 2.\"},\n",
       "  {u'WARNING': u\"Too few instances for class 'Governor Huckabee': have 1 instance, require at least 2.\"},\n",
       "  {u'WARNING': u\"Too few instances for class 'Governor Mike Huckabee': have 1 instance, require at least 2.\"},\n",
       "  {u'WARNING': u\"Too few instances for class 'Governor \\u2014 thank you': have 1 instance, require at least 2.\"},\n",
       "  {u'WARNING': u\"Too few instances for class 'Hey': have 1 instance, require at least 2.\"},\n",
       "  {u'WARNING': u\"Too few instances for class 'Hold on. We're going to -- we're going to move on. [crosstalk] We'll come back to you': have 1 instance, require at least 2.\"},\n",
       "  {u'WARNING': u\"Too few instances for class 'How did he keep us safe when the World Trade Center \\u2014 the World \\u2014 excuse me. I lost hundreds of friends. The World Trade Center came down during the reign of George Bush. He kept us safe? That is not safe. That is not safe': have 1 instance, require at least 2.\"},\n",
       "  {u'WARNING': u\"Too few instances for class 'Hugh Hewitt': have 1 instance, require at least 2.\"},\n",
       "  {u'WARNING': u\"Too few instances for class 'I am sick and tired of him going after my family. My dad is the greatest man alive in my mind. [applause] And while Donald Trump was building a reality TV show': have 1 instance, require at least 2.\"},\n",
       "  {u'WARNING': u\"Too few instances for class 'I think it's my turn': have 1 instance, require at least 2.\"},\n",
       "  {u'WARNING': u\"Too few instances for class 'I wish it was always this easy as you': have 1 instance, require at least 2.\"},\n",
       "  {u'WARNING': u\"Too few instances for class 'I'm rescinding the invitation. I thought you might want to come': have 1 instance, require at least 2.\"},\n",
       "  {u'WARNING': u\"Too few instances for class 'I'm the only one who is going to save Social Security': have 1 instance, require at least 2.\"},\n",
       "  {u'WARNING': u\"Too few instances for class 'If I was mentioned in the question': have 1 instance, require at least 2.\"},\n",
       "  {u'WARNING': u\"Too few instances for class 'It sounds more and more what my daughter said that I said in the beginning': have 1 instance, require at least 2.\"},\n",
       "  {u'WARNING': u\"Too few instances for class 'Jump in': have 1 instance, require at least 2.\"},\n",
       "  {u'WARNING': u\"Too few instances for class 'Just one at a time': have 1 instance, require at least 2.\"},\n",
       "  {u'WARNING': u\"Too few instances for class 'Ladies and gentleman': have 1 instance, require at least 2.\"},\n",
       "  {u'WARNING': u\"Too few instances for class 'Let me tell you something': have 1 instance, require at least 2.\"},\n",
       "  {u'WARNING': u\"Too few instances for class 'Listening to this': have 1 instance, require at least 2.\"},\n",
       "  {u'WARNING': u\"Too few instances for class 'My name is Carla Hernandez. I'm from the University of Texas at Austin. And my question is directed to all the candidates.If the Bible clearly states that we need to embrace those in need and not fear': have 1 instance, require at least 2.\"},\n",
       "  {u'WARNING': u\"Too few instances for class 'Neurosurgeon': have 1 instance, require at least 2.\"},\n",
       "  {u'WARNING': u\"Too few instances for class 'News flash': have 1 instance, require at least 2.\"},\n",
       "  {u'WARNING': u\"Too few instances for class 'Not me. [laughter]  But you're welcome to give me a check': have 1 instance, require at least 2.\"},\n",
       "  {u'WARNING': u\"Too few instances for class 'O.K. But how would you actually do that? Can I ask you? Because right now': have 1 instance, require at least 2.\"},\n",
       "  {u'WARNING': u\"Too few instances for class 'Okay.Senator Cruz. Senator Cruz': have 1 instance, require at least 2.\"},\n",
       "  {u'WARNING': u\"Too few instances for class 'One at a time. Hugh': have 1 instance, require at least 2.\"},\n",
       "  {u'WARNING': u\"Too few instances for class 'Respectfully': have 1 instance, require at least 2.\"},\n",
       "  {u'WARNING': u\"Too few instances for class 'See': have 1 instance, require at least 2.\"},\n",
       "  {u'WARNING': u\"Too few instances for class 'Senator Rubio \\u2014 I'm going to go to Senator Rubio and get his thoughts.You have said banning Muslims is unconstitutional. But according to a recent ABC News-Washington Post poll': have 1 instance, require at least 2.\"},\n",
       "  {u'WARNING': u\"Too few instances for class 'Senator \\u2014 Senator \\u2014 Senator Rubio': have 1 instance, require at least 2.\"},\n",
       "  {u'WARNING': u\"Too few instances for class 'So tonight': have 1 instance, require at least 2.\"},\n",
       "  {u'WARNING': u\"Too few instances for class 'So who do you side with? Who do you side with in this': have 1 instance, require at least 2.\"},\n",
       "  {u'WARNING': u\"Too few instances for class 'Standby. Everybody standby for a moment. Governor Kasich': have 1 instance, require at least 2.\"},\n",
       "  {u'WARNING': u\"Too few instances for class 'Ted': have 1 instance, require at least 2.\"},\n",
       "  {u'WARNING': u\"Too few instances for class 'Thank you. [crosstalk]Hugh Hewitt': have 1 instance, require at least 2.\"},\n",
       "  {u'WARNING': u\"Too few instances for class 'Thank you.Dana Bash': have 1 instance, require at least 2.\"},\n",
       "  {u'WARNING': u\"Too few instances for class 'Thank you.Everyone stand by. We're only just beginning. Coming up': have 1 instance, require at least 2.\"},\n",
       "  {u'WARNING': u\"Too few instances for class 'Thank you.Governor Christie': have 1 instance, require at least 2.\"},\n",
       "  {u'WARNING': u\"Too few instances for class 'The World Trade Center came down during your brother's reign': have 1 instance, require at least 2.\"},\n",
       "  {u'WARNING': u\"Too few instances for class 'These are the rules all of you agreed to.Hugh': have 1 instance, require at least 2.\"},\n",
       "  {u'WARNING': u\"Too few instances for class 'They do not need to be forced. They need to be asked to bring the best and brightest': have 1 instance, require at least 2.\"},\n",
       "  {u'WARNING': u\"Too few instances for class 'They take up two-thirds of the federal budget': have 1 instance, require at least 2.\"},\n",
       "  {u'WARNING': u\"Too few instances for class 'We have a lot to discuss. I want to move to Mr. Trump right now. We have a question on this war against ISIS and how you would fight and win this war. Here's the question from Facebook. Listen to this.[start video]JOSH JACOB': have 1 instance, require at least 2.\"},\n",
       "  {u'WARNING': u\"Too few instances for class 'We have many more questions coming on a host of topics': have 1 instance, require at least 2.\"},\n",
       "  {u'WARNING': u\"Too few instances for class 'We're going to talk about Assad in a moment.Mr. Trump': have 1 instance, require at least 2.\"},\n",
       "  {u'WARNING': u\"Too few instances for class 'When you -- you know': have 1 instance, require at least 2.\"},\n",
       "  {u'WARNING': u\"Too few instances for class 'You do whatever you want. You call it whatever you want. I want to tell you. They lied. They said there were weapons of mass destruction': have 1 instance, require at least 2.\"},\n",
       "  {u'WARNING': u\"Too few instances for class 'You'll have plenty of opportunity.Hugh': have 1 instance, require at least 2.\"},\n",
       "  {u'WARNING': u'Inconsistent number of columns: first line had 2 columns, but 5th line has 3 columns - line ignored.'},\n",
       "  {u'WARNING': u'6th line has no features - line ignored'},\n",
       "  {u'WARNING': u'9th line has no features - line ignored'},\n",
       "  {u'WARNING': u'11th line has no features - line ignored'},\n",
       "  {u'WARNING': u'12th line has no features - line ignored'},\n",
       "  {u'WARNING': u'15th line has no features - line ignored'},\n",
       "  {u'WARNING': u'17th line has no features - line ignored'},\n",
       "  {u'WARNING': u'18th line has no features - line ignored'},\n",
       "  {u'WARNING': u'Inconsistent number of columns: first line had 2 columns, but 21th line has 7 columns - line ignored.'},\n",
       "  {u'WARNING': u'22th line has no features - line ignored'},\n",
       "  {u'WARNING': u'24th line has no features - line ignored'},\n",
       "  {u'WARNING': u'25th line has no features - line ignored'},\n",
       "  {u'WARNING': u'27th line has no features - line ignored'},\n",
       "  {u'WARNING': u'28th line has no features - line ignored'},\n",
       "  {u'WARNING': u'30th line has no features - line ignored'},\n",
       "  {u'WARNING': u'31th line has no features - line ignored'},\n",
       "  {u'WARNING': u'33th line has no features - line ignored'},\n",
       "  {u'WARNING': u'34th line has no features - line ignored'},\n",
       "  {u'WARNING': u'Inconsistent number of columns: first line had 2 columns, but 36th line has 11 columns - line ignored.'},\n",
       "  {u'WARNING': u'37th line has no features - line ignored'},\n",
       "  {u'WARNING': u'40th line has no features - line ignored'},\n",
       "  {u'WARNING': u'42th line has no features - line ignored'},\n",
       "  {u'WARNING': u'43th line has no features - line ignored'},\n",
       "  {u'WARNING': u'45th line has no features - line ignored'},\n",
       "  {u'WARNING': u'46th line has no features - line ignored'},\n",
       "  {u'WARNING': u'Inconsistent number of columns: first line had 2 columns, but 48th line has 3 columns - line ignored.'},\n",
       "  {u'WARNING': u'49th line has no features - line ignored'},\n",
       "  {u'WARNING': u'51th line has no features - line ignored'},\n",
       "  {u'WARNING': u'52th line has no features - line ignored'},\n",
       "  {u'WARNING': u'Inconsistent number of columns: first line had 2 columns, but 54th line has 6 columns - line ignored.'},\n",
       "  {u'WARNING': u'55th line has no features - line ignored'},\n",
       "  {u'WARNING': u'57th line has no features - line ignored'},\n",
       "  {u'WARNING': u'58th line has no features - line ignored'},\n",
       "  {u'WARNING': u'60th line has no features - line ignored'},\n",
       "  {u'WARNING': u'61th line has no features - line ignored'},\n",
       "  {u'WARNING': u'64th line has no features - line ignored'},\n",
       "  {u'WARNING': u'67th line has no features - line ignored'},\n",
       "  {u'WARNING': u'69th line has no features - line ignored'},\n",
       "  {u'WARNING': u'70th line has no features - line ignored'},\n",
       "  {u'WARNING': u'72th line has no features - line ignored'},\n",
       "  {u'WARNING': u'73th line has no features - line ignored'},\n",
       "  {u'WARNING': u'Inconsistent number of columns: first line had 2 columns, but 75th line has 10 columns - line ignored.'},\n",
       "  {u'WARNING': u'76th line has no features - line ignored'},\n",
       "  {u'WARNING': u'Inconsistent number of columns: first line had 2 columns, but 78th line has 18 columns - line ignored.'},\n",
       "  {u'WARNING': u'79th line has no features - line ignored'},\n",
       "  {u'WARNING': u'Inconsistent number of columns: first line had 2 columns, but 81th line has 8 columns - line ignored.'},\n",
       "  {u'WARNING': u'82th line has no features - line ignored'},\n",
       "  {u'WARNING': u'Inconsistent number of columns: first line had 2 columns, but 85th line has 4 columns - line ignored.'},\n",
       "  {u'WARNING': u'86th line has no features - line ignored'},\n",
       "  {u'WARNING': u'Inconsistent number of columns: first line had 2 columns, but 89th line has 8 columns - line ignored.'},\n",
       "  {u'WARNING': u'90th line has no features - line ignored'},\n",
       "  {u'WARNING': u'92th line has no features - line ignored'},\n",
       "  {u'WARNING': u'93th line has no features - line ignored'},\n",
       "  {u'WARNING': u'96th line has no features - line ignored'},\n",
       "  {u'WARNING': u'98th line has no features - line ignored'},\n",
       "  {u'WARNING': u'99th line has no features - line ignored'},\n",
       "  {u'WARNING': u'102th line has no features - line ignored'},\n",
       "  {u'WARNING': u'105th line has no features - line ignored'},\n",
       "  {u'WARNING': u'Inconsistent number of columns: first line had 2 columns, but 107th line has 4 columns - line ignored.'},\n",
       "  {u'WARNING': u'108th line has no features - line ignored'},\n",
       "  {u'WARNING': u'Inconsistent number of columns: first line had 2 columns, but 110th line has 14 columns - line ignored.'},\n",
       "  {u'WARNING': u'111th line has no features - line ignored'},\n",
       "  {u'WARNING': u'Inconsistent number of columns: first line had 2 columns, but 118th line has 9 columns - line ignored.'},\n",
       "  {u'WARNING': u'119th line has no features - line ignored'},\n",
       "  {u'WARNING': u'Inconsistent number of columns: first line had 2 columns, but 124th line has 10 columns - line ignored.'},\n",
       "  {u'WARNING': u'125th line has no features - line ignored'},\n",
       "  {u'WARNING': u'Inconsistent number of columns: first line had 2 columns, but 129th line has 7 columns - line ignored.'},\n",
       "  {u'WARNING': u'130th line has no features - line ignored'},\n",
       "  {u'WARNING': u'Inconsistent number of columns: first line had 2 columns, but 132th line has 9 columns - line ignored.'},\n",
       "  {u'WARNING': u'133th line has no features - line ignored'},\n",
       "  {u'WARNING': u'Inconsistent number of columns: first line had 2 columns, but 135th line has 9 columns - line ignored.'},\n",
       "  {u'WARNING': u'136th line has no features - line ignored'},\n",
       "  {u'WARNING': u'Inconsistent number of columns: first line had 2 columns, but 138th line has 19 columns - line ignored.'},\n",
       "  {u'WARNING': u'139th line has no features - line ignored'},\n",
       "  {u'WARNING': u'Inconsistent number of columns: first line had 2 columns, but 142th line has 7 columns - line ignored.'},\n",
       "  {u'WARNING': u'143th line has no features - line ignored'},\n",
       "  {u'WARNING': u'146th line has no features - line ignored'},\n",
       "  {u'WARNING': u'148th line has no features - line ignored'},\n",
       "  {u'WARNING': u'149th line has no features - line ignored'},\n",
       "  {u'WARNING': u'151th line has no features - line ignored'},\n",
       "  {u'WARNING': u'152th line has no features - line ignored'},\n",
       "  {u'WARNING': u'154th line has no features - line ignored'},\n",
       "  {u'WARNING': u'155th line has no features - line ignored'},\n",
       "  {u'WARNING': u'Inconsistent number of columns: first line had 2 columns, but 157th line has 5 columns - line ignored.'},\n",
       "  {u'WARNING': u'158th line has no features - line ignored'},\n",
       "  {u'WARNING': u'162th line has no features - line ignored'},\n",
       "  {u'WARNING': u'165th line has no features - line ignored'},\n",
       "  {u'WARNING': u'Inconsistent number of columns: first line had 2 columns, but 167th line has 6 columns - line ignored.'},\n",
       "  {u'WARNING': u'168th line has no features - line ignored'},\n",
       "  {u'WARNING': u'Inconsistent number of columns: first line had 2 columns, but 172th line has 10 columns - line ignored.'},\n",
       "  {u'WARNING': u'173th line has no features - line ignored'},\n",
       "  {u'WARNING': u'Inconsistent number of columns: first line had 2 columns, but 177th line has 4 columns - line ignored.'},\n",
       "  {u'WARNING': u'178th line has no features - line ignored'},\n",
       "  {u'WARNING': u'182th line has no features - line ignored'},\n",
       "  {u'WARNING': u'185th line has no features - line ignored'},\n",
       "  {u'WARNING': u'Inconsistent number of columns: first line had 2 columns, but 187th line has 4 columns - line ignored.'},\n",
       "  {u'WARNING': u'188th line has no features - line ignored'},\n",
       "  {u'WARNING': u'Inconsistent number of columns: first line had 2 columns, but 190th line has 7 columns - line ignored.'},\n",
       "  {u'WARNING': u'191th line has no features - line ignored'},\n",
       "  {u'WARNING': u'193th line has no features - line ignored'}],\n",
       " u'id': u'republican-debate-model',\n",
       " u'kind': u'prediction#analyze',\n",
       " u'modelDescription': {u'modelinfo': {u'kind': u'prediction#training'}},\n",
       " u'selfLink': u'https://www.googleapis.com/prediction/v1.6/projects/176776777821/trainedmodels/republican-debate-model/analyze'}"
      ]
     },
     "execution_count": 115,
     "metadata": {},
     "output_type": "execute_result"
    }
   ],
   "source": [
    "big_republican_analysis"
   ]
  },
  {
   "cell_type": "code",
   "execution_count": 83,
   "metadata": {
    "collapsed": false
   },
   "outputs": [
    {
     "name": "stdout",
     "output_type": "stream",
     "text": [
      "Fetching model.\n",
      "Model is ready.\n"
     ]
    }
   ],
   "source": [
    "model_id = 'first-republican-debate-model'\n",
    "storageDataLocation = 'applause-prediction/first_r_applause.csv'\n",
    "analysis = make_prediction(model_id)"
   ]
  },
  {
   "cell_type": "code",
   "execution_count": 113,
   "metadata": {
    "collapsed": false
   },
   "outputs": [],
   "source": [
    "# analysis['modelDescription']['confusionMatrix']['0'].keys()"
   ]
  },
  {
   "cell_type": "code",
   "execution_count": 65,
   "metadata": {
    "collapsed": false
   },
   "outputs": [],
   "source": [
    "confusion_matrix = analysis['modelDescription']['confusionMatrix']"
   ]
  },
  {
   "cell_type": "code",
   "execution_count": 66,
   "metadata": {
    "collapsed": false
   },
   "outputs": [
    {
     "name": "stdout",
     "output_type": "stream",
     "text": [
      "percentage true negative: 0.665399239544\n",
      "percentage false positive: 0.334600760456\n",
      "percentage false negative: 0.13768115942\n",
      "percentage true positive: 0.86231884058\n"
     ]
    }
   ],
   "source": [
    "total_negative = float(confusion_matrix['0']['0']) + float(confusion_matrix['0']['1'])\n",
    "total_positive = float(confusion_matrix['1']['0']) + float(confusion_matrix['1']['1'])\n",
    "\n",
    "p_true_negative = float(confusion_matrix['0']['0']) / total_negative\n",
    "p_false_positive = float(confusion_matrix['0']['1']) / total_negative\n",
    "p_false_negative = float(confusion_matrix['1']['0']) / total_positive\n",
    "p_true_positive = float(confusion_matrix['1']['1']) / total_positive\n",
    "\n",
    "print('percentage true negative: {0}'.format(p_true_negative))\n",
    "print('percentage false positive: {0}'.format(p_false_positive))\n",
    "print('percentage false negative: {0}'.format(p_false_negative))\n",
    "print('percentage true positive: {0}'.format(p_true_positive))"
   ]
  },
  {
   "cell_type": "code",
   "execution_count": 114,
   "metadata": {
    "collapsed": false
   },
   "outputs": [
    {
     "ename": "KeyError",
     "evalue": "'confusionMatrix'",
     "output_type": "error",
     "traceback": [
      "\u001b[0;31m---------------------------------------------------------------------------\u001b[0m",
      "\u001b[0;31mKeyError\u001b[0m                                  Traceback (most recent call last)",
      "\u001b[0;32m<ipython-input-114-679bb1eb1d80>\u001b[0m in \u001b[0;36m<module>\u001b[0;34m()\u001b[0m\n\u001b[0;32m----> 1\u001b[0;31m \u001b[0mconfusion_matrix\u001b[0m \u001b[0;34m=\u001b[0m \u001b[0mbig_republican_analysis\u001b[0m\u001b[0;34m[\u001b[0m\u001b[0;34m'modelDescription'\u001b[0m\u001b[0;34m]\u001b[0m\u001b[0;34m[\u001b[0m\u001b[0;34m'confusionMatrix'\u001b[0m\u001b[0;34m]\u001b[0m\u001b[0;34m\u001b[0m\u001b[0m\n\u001b[0m\u001b[1;32m      2\u001b[0m \u001b[0mtotal_negative\u001b[0m \u001b[0;34m=\u001b[0m \u001b[0mfloat\u001b[0m\u001b[0;34m(\u001b[0m\u001b[0mconfusion_matrix\u001b[0m\u001b[0;34m[\u001b[0m\u001b[0;34m'0'\u001b[0m\u001b[0;34m]\u001b[0m\u001b[0;34m[\u001b[0m\u001b[0;34m'0'\u001b[0m\u001b[0;34m]\u001b[0m\u001b[0;34m)\u001b[0m \u001b[0;34m+\u001b[0m \u001b[0mfloat\u001b[0m\u001b[0;34m(\u001b[0m\u001b[0mconfusion_matrix\u001b[0m\u001b[0;34m[\u001b[0m\u001b[0;34m'0'\u001b[0m\u001b[0;34m]\u001b[0m\u001b[0;34m[\u001b[0m\u001b[0;34m'1'\u001b[0m\u001b[0;34m]\u001b[0m\u001b[0;34m)\u001b[0m\u001b[0;34m\u001b[0m\u001b[0m\n\u001b[1;32m      3\u001b[0m \u001b[0mtotal_positive\u001b[0m \u001b[0;34m=\u001b[0m \u001b[0mfloat\u001b[0m\u001b[0;34m(\u001b[0m\u001b[0mconfusion_matrix\u001b[0m\u001b[0;34m[\u001b[0m\u001b[0;34m'1'\u001b[0m\u001b[0;34m]\u001b[0m\u001b[0;34m[\u001b[0m\u001b[0;34m'0'\u001b[0m\u001b[0;34m]\u001b[0m\u001b[0;34m)\u001b[0m \u001b[0;34m+\u001b[0m \u001b[0mfloat\u001b[0m\u001b[0;34m(\u001b[0m\u001b[0mconfusion_matrix\u001b[0m\u001b[0;34m[\u001b[0m\u001b[0;34m'1'\u001b[0m\u001b[0;34m]\u001b[0m\u001b[0;34m[\u001b[0m\u001b[0;34m'1'\u001b[0m\u001b[0;34m]\u001b[0m\u001b[0;34m)\u001b[0m\u001b[0;34m\u001b[0m\u001b[0m\n\u001b[1;32m      4\u001b[0m \u001b[0;34m\u001b[0m\u001b[0m\n\u001b[1;32m      5\u001b[0m \u001b[0mp_true_negative\u001b[0m \u001b[0;34m=\u001b[0m \u001b[0mfloat\u001b[0m\u001b[0;34m(\u001b[0m\u001b[0mconfusion_matrix\u001b[0m\u001b[0;34m[\u001b[0m\u001b[0;34m'0'\u001b[0m\u001b[0;34m]\u001b[0m\u001b[0;34m[\u001b[0m\u001b[0;34m'0'\u001b[0m\u001b[0;34m]\u001b[0m\u001b[0;34m)\u001b[0m \u001b[0;34m/\u001b[0m \u001b[0mtotal_negative\u001b[0m\u001b[0;34m\u001b[0m\u001b[0m\n",
      "\u001b[0;31mKeyError\u001b[0m: 'confusionMatrix'"
     ]
    }
   ],
   "source": [
    "confusion_matrix = big_republican_analysis['modelDescription']['confusionMatrix']\n",
    "total_negative = float(confusion_matrix['0']['0']) + float(confusion_matrix['0']['1'])\n",
    "total_positive = float(confusion_matrix['1']['0']) + float(confusion_matrix['1']['1'])\n",
    "\n",
    "p_true_negative = float(confusion_matrix['0']['0']) / total_negative\n",
    "p_false_positive = float(confusion_matrix['0']['1']) / total_negative\n",
    "p_false_negative = float(confusion_matrix['1']['0']) / total_positive\n",
    "p_true_positive = float(confusion_matrix['1']['1']) / total_positive\n",
    "\n",
    "print('percentage true negative: {0}'.format(p_true_negative))\n",
    "print('percentage false positive: {0}'.format(p_false_positive))\n",
    "print('percentage false negative: {0}'.format(p_false_negative))\n",
    "print('percentage true positive: {0}'.format(p_true_positive))"
   ]
  },
  {
   "cell_type": "code",
   "execution_count": 37,
   "metadata": {
    "collapsed": true
   },
   "outputs": [],
   "source": [
    "def test_prediction(model_id):   \n",
    "    \n",
    "    \"\"\" Use trained model to generate a new prediction \"\"\"\n",
    "\n",
    "    api = get_prediction_api()\n",
    "\n",
    "    print(\"Fetching model.\")\n",
    "\n",
    "    model = api.trainedmodels().get(project=project_id, id=model_id).execute()\n",
    "    #read new record from local file\n",
    "    with open('./data/whatif_sentences.csv') as f:\n",
    "        record = f.readline().split(',') #csv\n",
    "\n",
    "    #obtain new prediction\n",
    "    prediction = api.trainedmodels().predict(project=project_id, id=model_id, body={\n",
    "        'input': {\n",
    "            'csvInstance': record\n",
    "        },\n",
    "    }).execute()\n",
    "\n",
    "    #retrieve classified label and reliability measures for each class\n",
    "    label = prediction.get('outputLabel')\n",
    "    stats = prediction.get('outputMulti')\n",
    "\n",
    "    #show results\n",
    "    print(\"You are currently %s (class %s).\" % (labels[label], label) ) \n",
    "    print(stats)"
   ]
  },
  {
   "cell_type": "code",
   "execution_count": 49,
   "metadata": {
    "collapsed": false
   },
   "outputs": [
    {
     "name": "stdout",
     "output_type": "stream",
     "text": [
      "Fetching model.\n"
     ]
    }
   ],
   "source": [
    "api = get_prediction_api()\n",
    "\n",
    "print(\"Fetching model.\")\n",
    "\n",
    "model = api.trainedmodels().get(project=project_id, id=model_id).execute()\n",
    "\n",
    "whatif_df = pd.read_csv('./data/whatif_sentences.csv', encoding='utf-8')"
   ]
  },
  {
   "cell_type": "code",
   "execution_count": 57,
   "metadata": {
    "collapsed": false
   },
   "outputs": [
    {
     "name": "stdout",
     "output_type": "stream",
     "text": [
      "I am pro life: 1\n",
      "\n",
      "\n",
      "We have a responsibility to the poor: 0\n",
      "\n",
      "\n",
      "The wall just got 10 feet taller: 1\n",
      "\n",
      "\n"
     ]
    }
   ],
   "source": [
    "#obtain new prediction\n",
    "records = ['I am pro life', 'We have a responsibility to the poor', \"The wall just got 10 feet taller\"]\n",
    "for record in records:\n",
    "    prediction = api.trainedmodels().predict(project=project_id, id=model_id, body={\n",
    "        'input': {\n",
    "            'csvInstance': [record]\n",
    "        },\n",
    "    }).execute()\n",
    "\n",
    "    print('{0}: {1}'.format(record, prediction['outputLabel']))\n",
    "    print('\\n')"
   ]
  },
  {
   "cell_type": "code",
   "execution_count": 89,
   "metadata": {
    "collapsed": false
   },
   "outputs": [
    {
     "name": "stdout",
     "output_type": "stream",
     "text": [
      "I am pro life: 1\n",
      "\n",
      "\n",
      "We have a responsibility to the poor: 0\n",
      "\n",
      "\n",
      "The wall just got 10 feet taller: 1\n",
      "\n",
      "\n",
      "I like pancakes: 1\n",
      "\n",
      "\n",
      "Pancakes are horrible: 1\n",
      "\n",
      "\n",
      "Socialism is good: 1\n",
      "\n",
      "\n"
     ]
    }
   ],
   "source": [
    "model_id = 'first-republican-debate-model'\n",
    "storageDataLocation = 'applause-prediction/first_r_applause.csv'\n",
    "\n",
    "#obtain new prediction\n",
    "records = [\n",
    "    'I am pro life', \n",
    "    'We have a responsibility to the poor', \n",
    "    \"The wall just got 10 feet taller\",\n",
    "    \"I like pancakes\",\n",
    "    \"Pancakes are horrible\"]\n",
    "for record in records:\n",
    "    prediction = api.trainedmodels().predict(project=project_id, id=model_id, body={\n",
    "        'input': {\n",
    "            'csvInstance': [record]\n",
    "        },\n",
    "    }).execute()\n",
    "\n",
    "    print('{0}: {1}'.format(record, prediction['outputLabel']))\n",
    "    print('\\n')"
   ]
  },
  {
   "cell_type": "code",
   "execution_count": null,
   "metadata": {
    "collapsed": true
   },
   "outputs": [],
   "source": []
  }
 ],
 "metadata": {
  "kernelspec": {
   "display_name": "Python 2",
   "language": "python",
   "name": "python2"
  },
  "language_info": {
   "codemirror_mode": {
    "name": "ipython",
    "version": 2
   },
   "file_extension": ".py",
   "mimetype": "text/x-python",
   "name": "python",
   "nbconvert_exporter": "python",
   "pygments_lexer": "ipython2",
   "version": "2.7.11"
  }
 },
 "nbformat": 4,
 "nbformat_minor": 0
}
