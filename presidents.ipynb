{
 "cells": [
  {
   "cell_type": "code",
   "execution_count": 33,
   "metadata": {
    "collapsed": true
   },
   "outputs": [],
   "source": [
    "import re, nltk"
   ]
  },
  {
   "cell_type": "code",
   "execution_count": 2,
   "metadata": {
    "collapsed": true
   },
   "outputs": [],
   "source": [
    "from bs4 import BeautifulSoup\n",
    "import urllib\n",
    "r = urllib.urlopen('http://www.presidency.ucsb.edu/ws/index.php?pid=110489').read()\n",
    "soup = BeautifulSoup(r)"
   ]
  },
  {
   "cell_type": "code",
   "execution_count": 50,
   "metadata": {
    "collapsed": false
   },
   "outputs": [],
   "source": [
    "date = soup.find_all(\"meta\")\n",
    "meta_data = str(date[-1])"
   ]
  },
  {
   "cell_type": "code",
   "execution_count": 51,
   "metadata": {
    "collapsed": false
   },
   "outputs": [],
   "source": []
  },
  {
   "cell_type": "code",
   "execution_count": 48,
   "metadata": {
    "collapsed": false
   },
   "outputs": [],
   "source": [
    "def get_file_title(meta_data):\n",
    "    party = \"\"\n",
    "    if 'Republican' in meta_data:\n",
    "        party ='R'\n",
    "    elif 'Democrat' in meta_data:\n",
    "        party = 'D'\n",
    "    cur_date = re.search('[A-Z][a-z]+ [0-9]+, [0-9]+',meta_data).group(0)\n",
    "    cur_date = re.sub(',','',cur_date)\n",
    "    cur_date = re.sub(' +','_',cur_date)\n",
    "    new_title = party + '_' + cur_date\n",
    "    return new_title"
   ]
  },
  {
   "cell_type": "code",
   "execution_count": 53,
   "metadata": {
    "collapsed": false
   },
   "outputs": [],
   "source": [
    "new_title = get_file_title(meta_data)"
   ]
  },
  {
   "cell_type": "code",
   "execution_count": 55,
   "metadata": {
    "collapsed": true
   },
   "outputs": [],
   "source": [
    "letters = soup.find_all(\"span\", class_=\"displaytext\")"
   ]
  },
  {
   "cell_type": "code",
   "execution_count": 56,
   "metadata": {
    "collapsed": false
   },
   "outputs": [],
   "source": [
    "text = letters[0].get_text().strip()"
   ]
  },
  {
   "cell_type": "code",
   "execution_count": 57,
   "metadata": {
    "collapsed": false
   },
   "outputs": [],
   "source": [
    "turns = re.split(\"([A-Z]+:)\",text)"
   ]
  },
  {
   "cell_type": "code",
   "execution_count": 60,
   "metadata": {
    "collapsed": false
   },
   "outputs": [],
   "source": [
    "ofile = open(new_title+'.txt','w')\n",
    "\n",
    "for turn in turns:\n",
    "    if len(turn) > 0:\n",
    "        ofile.write(turn.strip().encode('utf8') +'\\n')"
   ]
  },
  {
   "cell_type": "code",
   "execution_count": null,
   "metadata": {
    "collapsed": true
   },
   "outputs": [],
   "source": []
  }
 ],
 "metadata": {
  "kernelspec": {
   "display_name": "Python 2",
   "language": "python",
   "name": "python2"
  },
  "language_info": {
   "codemirror_mode": {
    "name": "ipython",
    "version": 2
   },
   "file_extension": ".py",
   "mimetype": "text/x-python",
   "name": "python",
   "nbconvert_exporter": "python",
   "pygments_lexer": "ipython2",
   "version": "2.7.11"
  }
 },
 "nbformat": 4,
 "nbformat_minor": 0
}
