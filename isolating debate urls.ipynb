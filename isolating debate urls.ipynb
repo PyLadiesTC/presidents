{
 "cells": [
  {
   "cell_type": "code",
   "execution_count": 4,
   "metadata": {
    "collapsed": true
   },
   "outputs": [],
   "source": [
    "import requests\n",
    "from bs4 import BeautifulSoup"
   ]
  },
  {
   "cell_type": "code",
   "execution_count": 6,
   "metadata": {
    "collapsed": false
   },
   "outputs": [],
   "source": [
    "r = requests.get('http://www.presidency.ucsb.edu/debates.php')\n",
    "data = r.text\n",
    "soup = BeautifulSoup(data, 'lxml')"
   ]
  },
  {
   "cell_type": "code",
   "execution_count": 15,
   "metadata": {
    "collapsed": false
   },
   "outputs": [],
   "source": [
    "links = []\n",
    "for link in soup.find_all('a'):\n",
    "    link_string = link.get('href')\n",
    "    if '/ws/' in link_string:\n",
    "        links.append(link_string)"
   ]
  },
  {
   "cell_type": "code",
   "execution_count": 16,
   "metadata": {
    "collapsed": false
   },
   "outputs": [
    {
     "data": {
      "text/plain": [
       "143"
      ]
     },
     "execution_count": 16,
     "metadata": {},
     "output_type": "execute_result"
    }
   ],
   "source": [
    "len(links)"
   ]
  },
  {
   "cell_type": "code",
   "execution_count": 17,
   "metadata": {
    "collapsed": false
   },
   "outputs": [
    {
     "data": {
      "text/plain": [
       "['http://www.presidency.ucsb.edu/ws/index.php?pid=116995',\n",
       " 'http://www.presidency.ucsb.edu/ws/index.php?pid=112719',\n",
       " 'http://www.presidency.ucsb.edu/ws/index.php?pid=112718',\n",
       " 'http://www.presidency.ucsb.edu/ws/index.php?pid=111520',\n",
       " 'http://www.presidency.ucsb.edu/ws/index.php?pid=111471',\n",
       " 'http://www.presidency.ucsb.edu/ws/index.php?pid=111409',\n",
       " 'http://www.presidency.ucsb.edu/ws/index.php?pid=111178',\n",
       " 'http://www.presidency.ucsb.edu/ws/index.php?pid=110910',\n",
       " 'http://www.presidency.ucsb.edu/ws/index.php?pid=110903',\n",
       " 'http://www.presidency.ucsb.edu/ws/index.php?pid=115148',\n",
       " 'http://www.presidency.ucsb.edu/ws/index.php?pid=111711',\n",
       " 'http://www.presidency.ucsb.edu/ws/index.php?pid=111634',\n",
       " 'http://www.presidency.ucsb.edu/ws/index.php?pid=111500',\n",
       " 'http://www.presidency.ucsb.edu/ws/index.php?pid=111472',\n",
       " 'http://www.presidency.ucsb.edu/ws/index.php?pid=111412',\n",
       " 'http://www.presidency.ucsb.edu/ws/index.php?pid=111395',\n",
       " 'http://www.presidency.ucsb.edu/ws/index.php?pid=111177',\n",
       " 'http://www.presidency.ucsb.edu/ws/index.php?pid=110908',\n",
       " 'http://www.presidency.ucsb.edu/ws/index.php?pid=110906',\n",
       " 'http://www.presidency.ucsb.edu/ws/index.php?pid=110756',\n",
       " 'http://www.presidency.ucsb.edu/ws/index.php?pid=110489',\n",
       " 'http://www.presidency.ucsb.edu/ws/index.php?pid=111413',\n",
       " 'http://www.presidency.ucsb.edu/ws/index.php?pid=111394',\n",
       " 'http://www.presidency.ucsb.edu/ws/index.php?pid=111176',\n",
       " 'http://www.presidency.ucsb.edu/ws/index.php?pid=110909',\n",
       " 'http://www.presidency.ucsb.edu/ws/index.php?pid=110907',\n",
       " 'http://www.presidency.ucsb.edu/ws/index.php?pid=110758',\n",
       " 'http://www.presidency.ucsb.edu/ws/index.php?pid=110757',\n",
       " 'http://www.presidency.ucsb.edu/ws/index.php?pid=102344',\n",
       " 'http://www.presidency.ucsb.edu/ws/index.php?pid=102343',\n",
       " 'http://www.presidency.ucsb.edu/ws/index.php?pid=102317',\n",
       " 'http://www.presidency.ucsb.edu/ws/index.php?pid=102322',\n",
       " 'http://www.presidency.ucsb.edu/ws/index.php?pid=99556',\n",
       " 'http://www.presidency.ucsb.edu/ws/index.php?pid=99075',\n",
       " 'http://www.presidency.ucsb.edu/ws/index.php?pid=99001',\n",
       " 'http://www.presidency.ucsb.edu/ws/index.php?pid=98936',\n",
       " 'http://www.presidency.ucsb.edu/ws/index.php?pid=98929',\n",
       " 'http://www.presidency.ucsb.edu/ws/index.php?pid=98814',\n",
       " 'http://www.presidency.ucsb.edu/ws/index.php?pid=98813',\n",
       " 'http://www.presidency.ucsb.edu/ws/index.php?pid=97978',\n",
       " 'http://www.presidency.ucsb.edu/ws/index.php?pid=97703',\n",
       " 'http://www.presidency.ucsb.edu/ws/index.php?pid=97332',\n",
       " 'http://www.presidency.ucsb.edu/ws/index.php?pid=97038',\n",
       " 'http://www.presidency.ucsb.edu/ws/index.php?pid=97022',\n",
       " 'http://www.presidency.ucsb.edu/ws/index.php?pid=96914',\n",
       " 'http://www.presidency.ucsb.edu/ws/index.php?pid=96894',\n",
       " 'http://www.presidency.ucsb.edu/ws/index.php?pid=96795',\n",
       " 'http://www.presidency.ucsb.edu/ws/index.php?pid=96683',\n",
       " 'http://www.presidency.ucsb.edu/ws/index.php?pid=96659',\n",
       " 'http://www.presidency.ucsb.edu/ws/index.php?pid=96660',\n",
       " 'http://www.presidency.ucsb.edu/ws/index.php?pid=90711',\n",
       " 'http://www.presidency.ucsb.edu/ws/index.php?pid=90513',\n",
       " 'http://www.presidency.ucsb.edu/ws/index.php?pid=84526',\n",
       " 'http://www.presidency.ucsb.edu/ws/index.php?pid=84482',\n",
       " 'http://www.presidency.ucsb.edu/ws/index.php?pid=78691',\n",
       " 'http://www.presidency.ucsb.edu/ws/index.php?pid=84382',\n",
       " 'http://www.presidency.ucsb.edu/ws/index.php?pid=76913',\n",
       " 'http://www.presidency.ucsb.edu/ws/index.php?pid=76688',\n",
       " 'http://www.presidency.ucsb.edu/ws/index.php?pid=76563',\n",
       " 'http://www.presidency.ucsb.edu/ws/index.php?pid=76339',\n",
       " 'http://www.presidency.ucsb.edu/ws/index.php?pid=76271',\n",
       " 'http://www.presidency.ucsb.edu/ws/index.php?pid=76237',\n",
       " 'http://www.presidency.ucsb.edu/ws/index.php?pid=76224',\n",
       " 'http://www.presidency.ucsb.edu/ws/index.php?pid=76123',\n",
       " 'http://www.presidency.ucsb.edu/ws/index.php?pid=76122',\n",
       " 'http://www.presidency.ucsb.edu/ws/index.php?pid=76041',\n",
       " 'http://www.presidency.ucsb.edu/ws/index.php?pid=75950',\n",
       " 'http://www.presidency.ucsb.edu/ws/index.php?pid=75796',\n",
       " 'http://www.presidency.ucsb.edu/ws/index.php?pid=76561',\n",
       " 'http://www.presidency.ucsb.edu/ws/index.php?pid=75664',\n",
       " 'http://www.presidency.ucsb.edu/ws/index.php?pid=75631',\n",
       " 'http://www.presidency.ucsb.edu/ws/index.php?pid=75575',\n",
       " 'http://www.presidency.ucsb.edu/ws/index.php?pid=75489',\n",
       " 'http://www.presidency.ucsb.edu/ws/index.php?pid=75140',\n",
       " 'http://www.presidency.ucsb.edu/ws/index.php?pid=74349',\n",
       " 'http://www.presidency.ucsb.edu/ws/index.php?pid=76338',\n",
       " 'http://www.presidency.ucsb.edu/ws/index.php?pid=76300',\n",
       " 'http://www.presidency.ucsb.edu/ws/index.php?pid=62265',\n",
       " 'http://www.presidency.ucsb.edu/ws/index.php?pid=29427',\n",
       " 'http://www.presidency.ucsb.edu/ws/index.php?pid=76223',\n",
       " 'http://www.presidency.ucsb.edu/ws/index.php?pid=29664',\n",
       " 'http://www.presidency.ucsb.edu/ws/index.php?pid=76562',\n",
       " 'http://www.presidency.ucsb.edu/ws/index.php?pid=76069',\n",
       " 'http://www.presidency.ucsb.edu/ws/index.php?pid=75914',\n",
       " 'http://www.presidency.ucsb.edu/ws/index.php?pid=75861',\n",
       " 'http://www.presidency.ucsb.edu/ws/index.php?pid=75913',\n",
       " 'http://www.presidency.ucsb.edu/ws/index.php?pid=75680',\n",
       " 'http://www.presidency.ucsb.edu/ws/index.php?pid=75630',\n",
       " 'http://www.presidency.ucsb.edu/ws/index.php?pid=75171',\n",
       " 'http://www.presidency.ucsb.edu/ws/index.php?pid=74348',\n",
       " 'http://www.presidency.ucsb.edu/ws/index.php?pid=74350',\n",
       " 'http://www.presidency.ucsb.edu/ws/index.php?pid=63163',\n",
       " 'http://www.presidency.ucsb.edu/ws/index.php?pid=72776',\n",
       " 'http://www.presidency.ucsb.edu/ws/index.php?pid=72770',\n",
       " 'http://www.presidency.ucsb.edu/ws/index.php?pid=29428',\n",
       " 'http://www.presidency.ucsb.edu/ws/index.php?pid=75118',\n",
       " 'http://www.presidency.ucsb.edu/ws/index.php?pid=74351',\n",
       " 'http://www.presidency.ucsb.edu/ws/index.php?pid=29420',\n",
       " 'http://www.presidency.ucsb.edu/ws/index.php?pid=29419',\n",
       " 'http://www.presidency.ucsb.edu/ws/index.php?pid=29418',\n",
       " 'http://www.presidency.ucsb.edu/ws/index.php?pid=29421',\n",
       " 'http://www.presidency.ucsb.edu/ws/index.php?pid=105446',\n",
       " 'http://www.presidency.ucsb.edu/ws/index.php?pid=105445',\n",
       " 'http://www.presidency.ucsb.edu/ws/index.php?pid=105444',\n",
       " 'http://www.presidency.ucsb.edu/ws/index.php?pid=105449',\n",
       " 'http://www.presidency.ucsb.edu/ws/index.php?pid=105448',\n",
       " 'http://www.presidency.ucsb.edu/ws/index.php?pid=109919',\n",
       " 'http://www.presidency.ucsb.edu/ws/index.php?pid=105447',\n",
       " 'http://www.presidency.ucsb.edu/ws/index.php?pid=105443',\n",
       " 'http://www.presidency.ucsb.edu/ws/index.php?pid=105442',\n",
       " 'http://www.presidency.ucsb.edu/ws/index.php?pid=105441',\n",
       " 'http://www.presidency.ucsb.edu/ws/index.php?pid=105440',\n",
       " 'http://www.presidency.ucsb.edu/ws/index.php?pid=105439',\n",
       " 'http://www.presidency.ucsb.edu/ws/index.php?pid=105438',\n",
       " 'http://www.presidency.ucsb.edu/ws/index.php?pid=105437',\n",
       " 'http://www.presidency.ucsb.edu/ws/index.php?pid=76120',\n",
       " 'http://www.presidency.ucsb.edu/ws/index.php?pid=75089',\n",
       " 'http://www.presidency.ucsb.edu/ws/index.php?pid=105436',\n",
       " 'http://www.presidency.ucsb.edu/ws/index.php?pid=105435',\n",
       " 'http://www.presidency.ucsb.edu/ws/index.php?pid=75090',\n",
       " 'http://www.presidency.ucsb.edu/ws/index.php?pid=52115',\n",
       " 'http://www.presidency.ucsb.edu/ws/index.php?pid=52060',\n",
       " 'http://www.presidency.ucsb.edu/ws/index.php?pid=29422',\n",
       " 'http://www.presidency.ucsb.edu/ws/index.php?pid=21625',\n",
       " 'http://www.presidency.ucsb.edu/ws/index.php?pid=21617',\n",
       " 'http://www.presidency.ucsb.edu/ws/index.php?pid=21605',\n",
       " 'http://www.presidency.ucsb.edu/ws/index.php?pid=29423',\n",
       " 'http://www.presidency.ucsb.edu/ws/index.php?pid=29412',\n",
       " 'http://www.presidency.ucsb.edu/ws/index.php?pid=29411',\n",
       " 'http://www.presidency.ucsb.edu/ws/index.php?pid=29424',\n",
       " 'http://www.presidency.ucsb.edu/ws/index.php?pid=39296',\n",
       " 'http://www.presidency.ucsb.edu/ws/index.php?pid=39199',\n",
       " 'http://www.presidency.ucsb.edu/ws/index.php?pid=29425',\n",
       " 'http://www.presidency.ucsb.edu/ws/index.php?pid=29408',\n",
       " 'http://www.presidency.ucsb.edu/ws/index.php?pid=29407',\n",
       " 'http://www.presidency.ucsb.edu/ws/index.php?pid=6517',\n",
       " 'http://www.presidency.ucsb.edu/ws/index.php?pid=6414',\n",
       " 'http://www.presidency.ucsb.edu/ws/index.php?pid=29404',\n",
       " 'http://www.presidency.ucsb.edu/ws/index.php?pid=62249',\n",
       " 'http://www.presidency.ucsb.edu/ws/index.php?pid=29403',\n",
       " 'http://www.presidency.ucsb.edu/ws/index.php?pid=29402',\n",
       " 'http://www.presidency.ucsb.edu/ws/index.php?pid=29401',\n",
       " 'http://www.presidency.ucsb.edu/ws/index.php?pid=29400']"
      ]
     },
     "execution_count": 17,
     "metadata": {},
     "output_type": "execute_result"
    }
   ],
   "source": [
    "links"
   ]
  },
  {
   "cell_type": "code",
   "execution_count": null,
   "metadata": {
    "collapsed": true
   },
   "outputs": [],
   "source": []
  }
 ],
 "metadata": {
  "kernelspec": {
   "display_name": "Python 2",
   "language": "python",
   "name": "python2"
  },
  "language_info": {
   "codemirror_mode": {
    "name": "ipython",
    "version": 2
   },
   "file_extension": ".py",
   "mimetype": "text/x-python",
   "name": "python",
   "nbconvert_exporter": "python",
   "pygments_lexer": "ipython2",
   "version": "2.7.11"
  }
 },
 "nbformat": 4,
 "nbformat_minor": 0
}
