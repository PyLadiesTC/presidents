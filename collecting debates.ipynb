{
 "cells": [
  {
   "cell_type": "code",
   "execution_count": 6,
   "metadata": {
    "collapsed": true
   },
   "outputs": [],
   "source": [
    "import requests\n",
    "from bs4 import BeautifulSoup\n",
    "import re, nltk\n",
    "import io"
   ]
  },
  {
   "cell_type": "code",
   "execution_count": 20,
   "metadata": {
    "collapsed": false
   },
   "outputs": [],
   "source": [
    "def get_urls(url):\n",
    "    '''get a list of debate urls from the debate page\n",
    "    params: url - debate url\n",
    "    returns: a list of url strings\n",
    "    '''\n",
    "    r = requests.get(url)\n",
    "    data = r.text\n",
    "    soup = BeautifulSoup(data, 'lxml')\n",
    "    urls = []\n",
    "    for link in soup.find_all('a'):\n",
    "        link_string = link.get('href')\n",
    "        if '/ws/' in link_string:\n",
    "            urls.append(link_string)\n",
    "    return urls\n",
    "\n",
    "def get_debate(url):\n",
    "    try:\n",
    "        r = requests.get(url).text\n",
    "        soup = BeautifulSoup(r, 'lxml')\n",
    "        letters = soup.find_all(\"span\", class_=\"displaytext\")\n",
    "        text = letters[0].get_text().strip()\n",
    "        turns = re.split(\"([A-Z]+:)\",text)\n",
    "        string_blob = ''\n",
    "        for turn in turns:\n",
    "            if len(turn) > 0:\n",
    "                string_blob += turn.strip() +'\\n'\n",
    "                \n",
    "        date = soup.find_all(\"meta\")\n",
    "        meta_data = str(date[-1])\n",
    "        title = get_file_title(meta_data)\n",
    "        return string_blob, title\n",
    "    except:\n",
    "        return None, None\n",
    "\n",
    "def get_file_title(meta_data):\n",
    "    party = \"\"\n",
    "    if 'Republican' in meta_data:\n",
    "        party ='R'\n",
    "    elif 'Democrat' in meta_data:\n",
    "        party = 'D'\n",
    "    else:\n",
    "        party = None\n",
    "        \n",
    "    if 'undercard' in meta_data:\n",
    "        # undercard debates for overflow\n",
    "        group = 'u'\n",
    "    else:\n",
    "        # main\n",
    "        group = 'm'\n",
    "        \n",
    "    try:\n",
    "        cur_date = re.search('[A-Z][a-z]+ [0-9]+, [0-9]+',meta_data).group(0)\n",
    "        cur_date = re.sub(',','',cur_date)\n",
    "        cur_date = re.sub(' +','_',cur_date)\n",
    "    except:\n",
    "        cur_date = None\n",
    "        \n",
    "    if party is not None and cur_date is not None and group is not None:\n",
    "        new_title = party + '_' + cur_date + '_' + group\n",
    "        return new_title\n",
    "    else:\n",
    "        return None"
   ]
  },
  {
   "cell_type": "code",
   "execution_count": null,
   "metadata": {
    "collapsed": false
   },
   "outputs": [],
   "source": [
    "urls = get_urls('http://www.presidency.ucsb.edu/debates.php')\n",
    "for url in urls:\n",
    "    debate, title = get_debate(url)\n",
    "    if debate is not None and title is not None:\n",
    "        filename = \"debates/{0}.txt\".format(title)\n",
    "        with io.open(filename,'w',encoding='utf8') as f:\n",
    "            f.write(debate)"
   ]
  },
  {
   "cell_type": "code",
   "execution_count": 40,
   "metadata": {
    "collapsed": false
   },
   "outputs": [],
   "source": [
    "import io\n",
    "with io.open(filename,'r',encoding='utf8') as f:\n",
    "    text = f.read()\n",
    "# process Unicode text\n",
    "with io.open(filename,'w',encoding='utf8') as f:\n",
    "    f.write(text)"
   ]
  },
  {
   "cell_type": "code",
   "execution_count": 10,
   "metadata": {
    "collapsed": true
   },
   "outputs": [],
   "source": [
    "r = requests.get('http://www.presidency.ucsb.edu/ws/index.php?pid=111413').text\n",
    "soup = BeautifulSoup(r, 'lxml')\n",
    "date = soup.find_all(\"meta\")\n",
    "meta_data = str(date[-1])"
   ]
  },
  {
   "cell_type": "code",
   "execution_count": 11,
   "metadata": {
    "collapsed": false
   },
   "outputs": [
    {
     "data": {
      "text/plain": [
       "'<meta content=\"Presidential Candidates Debates: Republican Candidates \" debate=\"\" des=\"\" in=\"\" iowa=\"\" january=\"\" moines=\"\" name=\"title\" undercard=\"\"/>'"
      ]
     },
     "execution_count": 11,
     "metadata": {},
     "output_type": "execute_result"
    }
   ],
   "source": [
    "meta_data"
   ]
  },
  {
   "cell_type": "code",
   "execution_count": 14,
   "metadata": {
    "collapsed": false
   },
   "outputs": [
    {
     "name": "stdout",
     "output_type": "stream",
     "text": [
      "true\n"
     ]
    }
   ],
   "source": [
    "if 'undercard' in meta_data:\n",
    "    print('true')"
   ]
  },
  {
   "cell_type": "code",
   "execution_count": 18,
   "metadata": {
    "collapsed": true
   },
   "outputs": [],
   "source": [
    "\n",
    "r = requests.get('http://www.presidency.ucsb.edu/ws/index.php?pid=115148').text\n",
    "soup = BeautifulSoup(r, 'lxml')\n",
    "date = soup.find_all(\"meta\")\n",
    "meta_data = str(date[-1])"
   ]
  },
  {
   "cell_type": "code",
   "execution_count": 19,
   "metadata": {
    "collapsed": false
   },
   "outputs": [
    {
     "data": {
      "text/plain": [
       "'<meta content=\"Presidential Candidates Debates: Republican Candidates Debate in Miami, Florida - March 10, 2016\" name=\"title\"/>'"
      ]
     },
     "execution_count": 19,
     "metadata": {},
     "output_type": "execute_result"
    }
   ],
   "source": [
    "meta_data"
   ]
  },
  {
   "cell_type": "code",
   "execution_count": null,
   "metadata": {
    "collapsed": true
   },
   "outputs": [],
   "source": []
  }
 ],
 "metadata": {
  "kernelspec": {
   "display_name": "Python 2",
   "language": "python",
   "name": "python2"
  },
  "language_info": {
   "codemirror_mode": {
    "name": "ipython",
    "version": 2
   },
   "file_extension": ".py",
   "mimetype": "text/x-python",
   "name": "python",
   "nbconvert_exporter": "python",
   "pygments_lexer": "ipython2",
   "version": "2.7.11"
  }
 },
 "nbformat": 4,
 "nbformat_minor": 0
}
