{
 "cells": [
  {
   "cell_type": "code",
   "execution_count": 1,
   "metadata": {
    "collapsed": false,
    "scrolled": true
   },
   "outputs": [],
   "source": [
    "import nltk\n",
    "from nltk.collocations import *\n",
    "bigram_measures = nltk.collocations.BigramAssocMeasures()\n",
    "trigram_measures = nltk.collocations.TrigramAssocMeasures()"
   ]
  },
  {
   "cell_type": "code",
   "execution_count": 2,
   "metadata": {
    "collapsed": true
   },
   "outputs": [],
   "source": [
    "from nltk.tokenize import word_tokenize"
   ]
  },
  {
   "cell_type": "code",
   "execution_count": 3,
   "metadata": {
    "collapsed": false,
    "scrolled": false
   },
   "outputs": [],
   "source": [
    "text = open('Linguists.txt','r').readlines() "
   ]
  },
  {
   "cell_type": "code",
   "execution_count": 4,
   "metadata": {
    "collapsed": false
   },
   "outputs": [],
   "source": [
    "essay = []\n",
    "for line in text:\n",
    "    words = word_tokenize(line.strip())\n",
    "    for word in words:\n",
    "        essay.append(word)"
   ]
  },
  {
   "cell_type": "code",
   "execution_count": 20,
   "metadata": {
    "collapsed": false,
    "scrolled": true
   },
   "outputs": [],
   "source": [
    "finder = BigramCollocationFinder.from_words(essay,window_size=5)"
   ]
  },
  {
   "cell_type": "code",
   "execution_count": 21,
   "metadata": {
    "collapsed": false,
    "scrolled": true
   },
   "outputs": [
    {
     "data": {
      "text/plain": [
       "[('Ministry', 'Justice'),\n",
       " ('incites', 'hatred'),\n",
       " ('non-discrete', 'reality'),\n",
       " ('sexual', 'slavery'),\n",
       " ('take', 'part'),\n",
       " ('final', 'piece'),\n",
       " ('high', 'demand'),\n",
       " ('interpretation', 'second'),\n",
       " ('pregnant', 'women'),\n",
       " ('Charlie', 'Hebdo'),\n",
       " ('theory', 'influence'),\n",
       " ('theoretical', 'basis'),\n",
       " ('court', 'rulings'),\n",
       " ('ethnic', 'religious'),\n",
       " ('advice', 'used'),\n",
       " ('forensic', 'linguistics'),\n",
       " ('Russian', 'context'),\n",
       " ('expert', 'used'),\n",
       " ('linguistic', 'expertise'),\n",
       " ('role', 'linguistic'),\n",
       " ('expert', 'advice'),\n",
       " ('role', 'expertise'),\n",
       " ('hate', 'speech'),\n",
       " ('Russian', 'legal'),\n",
       " ('hate', 'Russia'),\n",
       " ('hate', 'regulation'),\n",
       " ('expertise', 'court'),\n",
       " ('Russian', 'linguistics'),\n",
       " ('hate', 'cases'),\n",
       " ('speech', 'Russia'),\n",
       " ('speech', 'regulation'),\n",
       " ('speech', 'cases'),\n",
       " ('regulation', 'hate'),\n",
       " ('linguistics', 'expert'),\n",
       " ('regulation', 'speech'),\n",
       " ('expertise', 'Russian'),\n",
       " ('legal', 'speech'),\n",
       " ('advice', 'hate'),\n",
       " ('advice', 'speech'),\n",
       " ('speech', 'Russian'),\n",
       " ('expert', 'hate'),\n",
       " ('expert', 'speech')]"
      ]
     },
     "execution_count": 21,
     "metadata": {},
     "output_type": "execute_result"
    }
   ],
   "source": [
    "finder.apply_freq_filter(2)\n",
    "ignored_words = nltk.corpus.stopwords.words('english')\n",
    "finder.apply_word_filter(lambda w: len(w) < 3 or w.lower() in ignored_words)\n",
    "#finder.apply_word_filter(lambda w: w in ('.', '?','of','in','on',','))\n",
    "finder.nbest(bigram_measures.pmi,150)"
   ]
  },
  {
   "cell_type": "code",
   "execution_count": 17,
   "metadata": {
    "collapsed": false
   },
   "outputs": [
    {
     "data": {
      "text/plain": [
       "[('hate', 'speech', 'regulation'), ('hate', 'speech', 'cases')]"
      ]
     },
     "execution_count": 17,
     "metadata": {},
     "output_type": "execute_result"
    }
   ],
   "source": [
    "finder2 = TrigramCollocationFinder.from_words(essay)#,window_size=20)\n",
    "ignored_words = nltk.corpus.stopwords.words('english')\n",
    "finder2.apply_word_filter(lambda w: len(w) < 3 or w.lower() in ignored_words)\n",
    "finder2.apply_freq_filter(2)\n",
    "finder2.nbest(trigram_measures.pmi,150)"
   ]
  },
  {
   "cell_type": "code",
   "execution_count": null,
   "metadata": {
    "collapsed": true
   },
   "outputs": [],
   "source": []
  }
 ],
 "metadata": {
  "kernelspec": {
   "display_name": "Python 2",
   "language": "python",
   "name": "python2"
  },
  "language_info": {
   "codemirror_mode": {
    "name": "ipython",
    "version": 2
   },
   "file_extension": ".py",
   "mimetype": "text/x-python",
   "name": "python",
   "nbconvert_exporter": "python",
   "pygments_lexer": "ipython2",
   "version": "2.7.11"
  }
 },
 "nbformat": 4,
 "nbformat_minor": 0
}
