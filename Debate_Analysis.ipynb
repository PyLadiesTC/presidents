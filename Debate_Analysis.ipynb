{
 "cells": [
  {
   "cell_type": "code",
   "execution_count": 21,
   "metadata": {
    "collapsed": false
   },
   "outputs": [],
   "source": [
    "from __future__ import division\n",
    "import nltk, re, os\n",
    "from nltk.collocations import *\n",
    "bigram_measures = nltk.collocations.BigramAssocMeasures()\n",
    "trigram_measures = nltk.collocations.TrigramAssocMeasures()\n",
    "import operator"
   ]
  },
  {
   "cell_type": "code",
   "execution_count": 127,
   "metadata": {
    "collapsed": false
   },
   "outputs": [],
   "source": [
    "def sort_by_participant(debate):\n",
    "    participant = {}\n",
    "    current_speaker = ''\n",
    "    for line in debate:\n",
    "        line = line.strip()\n",
    "        speaker = re.match(\"[A-Z]'?[A-Z]+:\",line)\n",
    "        if speaker:\n",
    "            speaker = speaker.group(0).strip(':').strip()\n",
    "            if 'MALLEY' in speaker:\n",
    "                speaker = \"O'MALLEY\"\n",
    "            if speaker not in participant.keys():\n",
    "                participant[speaker] = []\n",
    "            current_speaker = speaker\n",
    "        else:\n",
    "            if len(line) > 0:\n",
    "                try:\n",
    "                    participant[current_speaker].append(line)\n",
    "                except:\n",
    "                    print current_speaker\n",
    "    return participant"
   ]
  },
  {
   "cell_type": "code",
   "execution_count": 128,
   "metadata": {
    "collapsed": false
   },
   "outputs": [],
   "source": [
    "def make_corpus(speech):\n",
    "    joined_speech = []\n",
    "    for turn in speech:\n",
    "        line = turn\n",
    "        line = re.sub('([a-zA-Z])[\\./]([a-zA-Z])',r'\\1 \\2',line)\n",
    "        line = re.sub('\\[.*?\\]','',line)\n",
    "        words = nltk.word_tokenize(line.strip())\n",
    "        for word in words:\n",
    "            word = word.lower().strip().strip('.').strip(':')\n",
    "            if len(word) != 0:\n",
    "                if (word != \"``\") and (word != \"--\") and (word != \"'\"):\n",
    "                    if re.search('.*[^a-zA-Z0-9\\'\\-]',word):\n",
    "                        if (len(word) >= 2):\n",
    "                            joined_speech.append(word)\n",
    "                    else:\n",
    "                        joined_speech.append(word)\n",
    "    return joined_speech"
   ]
  },
  {
   "cell_type": "code",
   "execution_count": 129,
   "metadata": {
    "collapsed": true
   },
   "outputs": [],
   "source": [
    "def get_corpus(participant):\n",
    "    corpus = {}\n",
    "    for person in participant.keys():\n",
    "        corpus[person] = make_corpus(participant[person])\n",
    "    return corpus"
   ]
  },
  {
   "cell_type": "code",
   "execution_count": 133,
   "metadata": {
    "collapsed": true
   },
   "outputs": [],
   "source": [
    "def get_total(word_counts):\n",
    "    total_words = 0\n",
    "    for item in word_counts.iteritems():\n",
    "        total_words += item[1]\n",
    "    return total_words"
   ]
  },
  {
   "cell_type": "code",
   "execution_count": 138,
   "metadata": {
    "collapsed": false
   },
   "outputs": [
    {
     "name": "stdout",
     "output_type": "stream",
     "text": [
      "D_April_14_2016_m.txt\n",
      "CLINTON 8103 55.9%\n",
      "SANDERS 6400 44.1%\n",
      "\n",
      "D_December_19_2015_m.txt\n",
      "CLINTON 6989 40.7%\n",
      "SANDERS 5348 31.2%\n",
      "O'MALLEY 4831 28.1%\n",
      "\n",
      "D_February_11_2016_m.txt\n",
      "CLINTON 7081 50.6%\n",
      "SANDERS 6907 49.4%\n",
      "\n",
      "D_February_4_2016_m.txt\n",
      "CLINTON 7176 52.3%\n",
      "SANDERS 6546 47.7%\n",
      "\n",
      "D_January_17_2016_m.txt\n",
      "SANDERS 4720 39.0%\n",
      "CLINTON 4377 36.2%\n",
      "O'MALLEY 2999 24.8%\n",
      "\n",
      "D_March_6_2016_m.txt\n",
      "CLINTON 6754 50.6%\n",
      "SANDERS 6601 49.4%\n",
      "\n",
      "D_March_9_2016_m.txt\n",
      "CLINTON 6358 57.6%\n",
      "SANDERS 4671 42.4%\n",
      "\n",
      "D_November_14_2015_m.txt\n",
      "CLINTON 5140 39.4%\n",
      "SANDERS 4433 34.0%\n",
      "O'MALLEY 3462 26.6%\n",
      "\n",
      "D_October_13_2015_m.txt\n",
      "CLINTON 5520 30.6%\n",
      "SANDERS 4642 25.7%\n",
      "O'MALLEY 3297 18.3%\n",
      "WEBB 2836 15.7%\n",
      "CHAFEE 1747 9.7%\n",
      "\n",
      "R_August_6_2015_m.txt\n",
      "TRUMP 2052 15.0%\n",
      "BUSH 1524 11.2%\n",
      "RUBIO 1508 11.1%\n",
      "CHRISTIE 1393 10.2%\n",
      "WALKER 1355 9.9%\n",
      "KASICH 1347 9.9%\n",
      "HUCKABEE 1253 9.2%\n",
      "CARSON 1131 8.3%\n",
      "CRUZ 1093 8.0%\n",
      "PAUL 985 7.2%\n",
      "\n",
      "R_December_15_2015_m.txt\n",
      "RUBIO 3276 16.1%\n",
      "CRUZ 2779 13.7%\n",
      "TRUMP 2684 13.2%\n",
      "CHRISTIE 2250 11.1%\n",
      "BUSH 2121 10.4%\n",
      "PAUL 1968 9.7%\n",
      "CARSON 1788 8.8%\n",
      "FIORINA 1760 8.7%\n",
      "KASICH 1697 8.4%\n",
      "\n",
      "R_February_13_2016_m.txt\n",
      "TRUMP 3598 24.5%\n",
      "RUBIO 2531 17.2%\n",
      "CRUZ 2500 17.0%\n",
      "BUSH 2372 16.1%\n",
      "KASICH 2180 14.8%\n",
      "CARSON 1531 10.4%\n",
      "\n",
      "R_February_25_2016_m.txt\n",
      "TRUMP 7247 32.7%\n",
      "RUBIO 4811 21.7%\n",
      "CRUZ 4281 19.3%\n",
      "KASICH 3838 17.3%\n",
      "CARSON 1952 8.8%\n",
      "\n",
      "R_February_6_2016_m.txt\n",
      "RUBIO 4364 21.4%\n",
      "TRUMP 3403 16.7%\n",
      "CRUZ 3180 15.6%\n",
      "CHRISTIE 2890 14.2%\n",
      "BUSH 2673 13.1%\n",
      "KASICH 2308 11.3%\n",
      "CARSON 1552 7.6%\n",
      "\n",
      "R_January_14_2016_m.txt\n",
      "TRUMP 3489 17.6%\n",
      "RUBIO 3293 16.6%\n",
      "CRUZ 3143 15.8%\n",
      "CHRISTIE 3130 15.8%\n",
      "BUSH 2641 13.3%\n",
      "KASICH 2609 13.1%\n",
      "CARSON 1538 7.8%\n",
      "\n",
      "R_January_28_2016_m.txt\n",
      "RUBIO 3407 23.2%\n",
      "CRUZ 2545 17.4%\n",
      "BUSH 2068 14.1%\n",
      "KASICH 2012 13.7%\n",
      "CHRISTIE 1888 12.9%\n",
      "PAUL 1729 11.8%\n",
      "CARSON 1008 6.9%\n",
      "\n",
      "R_March_10_2016_m.txt\n",
      "TRUMP 5755 30.5%\n",
      "RUBIO 5142 27.3%\n",
      "KASICH 3979 21.1%\n",
      "CRUZ 3971 21.1%\n",
      "\n",
      "R_March_3_2016_m.txt\n",
      "TRUMP 6342 38.1%\n",
      "CRUZ 3703 22.3%\n",
      "RUBIO 3374 20.3%\n",
      "KASICH 3210 19.3%\n",
      "\n",
      "R_November_10_2015_m.txt\n",
      "RUBIO 2380 14.0%\n",
      "KASICH 2375 14.0%\n",
      "CRUZ 2354 13.9%\n",
      "TRUMP 2205 13.0%\n",
      "PAUL 2039 12.0%\n",
      "BUSH 2024 11.9%\n",
      "FIORINA 2006 11.8%\n",
      "CARSON 1598 9.4%\n",
      "\n",
      "R_October_28_2015_m.txt\n",
      "RUBIO 2648 15.3%\n",
      "KASICH 1962 11.4%\n",
      "TRUMP 1918 11.1%\n",
      "FIORINA 1843 10.7%\n",
      "CHRISTIE 1728 10.0%\n",
      "BUSH 1587 9.2%\n",
      "HUCKABEE 1578 9.1%\n",
      "CRUZ 1452 8.4%\n",
      "PAUL 1284 7.4%\n",
      "CARSON 1272 7.4%\n",
      "\n",
      "R_September_16_2015_m.txt\n",
      "TRUMP 4440 15.0%\n",
      "BUSH 3449 11.7%\n",
      "RUBIO 3258 11.0%\n",
      "CHRISTIE 2716 9.2%\n",
      "FIORINA 2607 8.8%\n",
      "PAUL 2392 8.1%\n",
      "KASICH 2388 8.1%\n",
      "CARSON 2346 7.9%\n",
      "WALKER 2194 7.4%\n",
      "HUCKABEE 1934 6.6%\n",
      "CRUZ 1796 6.1%\n",
      "\n"
     ]
    }
   ],
   "source": [
    "for f in os.listdir('debates'):\n",
    "    if re.search('[RD].*201[56]',f):\n",
    "    #if re.search('[RD].*200[78]',f):\n",
    "        ifile = open('debates/'+f,'r')\n",
    "        debate = ifile.readlines()\n",
    "        ifile.close()\n",
    "        \n",
    "        participant = sort_by_participant(debate)\n",
    "        corpus = get_corpus(participant)\n",
    "        word_counts = {}\n",
    "        for person in corpus.keys():\n",
    "            if person.lower() in corpus['PARTICIPANTS']:\n",
    "                word_counts[person] = len(corpus[person])\n",
    "        sorted_word_counts = sorted(word_counts.items(), key=operator.itemgetter(1),reverse = True)\n",
    "        \n",
    "        total = get_total(word_counts)\n",
    "        print f\n",
    "        for item in sorted_word_counts:\n",
    "            percentage = item[1]/total\n",
    "            print item[0],item[1], str(round(percentage * 100, 1))+'%'\n",
    "        print"
   ]
  },
  {
   "cell_type": "code",
   "execution_count": 115,
   "metadata": {
    "collapsed": false
   },
   "outputs": [],
   "source": [
    "finder = BigramCollocationFinder.from_words(trump,window_size=5)"
   ]
  },
  {
   "cell_type": "code",
   "execution_count": 116,
   "metadata": {
    "collapsed": false
   },
   "outputs": [
    {
     "data": {
      "text/plain": [
       "[('common', 'core'),\n",
       " ('curriculum', 'reform'),\n",
       " ('hillary', 'clinton'),\n",
       " ('taken', 'advantage'),\n",
       " ('would', 'add'),\n",
       " ('american', 'dream'),\n",
       " ('repeal', 'replace'),\n",
       " ('resume', 'competition'),\n",
       " ('21st', 'century'),\n",
       " ('clinton', 'gon'),\n",
       " ('hillary', 'gon'),\n",
       " ('gon', 'lecture'),\n",
       " ('great', 'question'),\n",
       " ('repeal', 'dodd-frank'),\n",
       " ('united', 'states'),\n",
       " ('years', 'ago'),\n",
       " ('election', 'better'),\n",
       " ('feel', 'like'),\n",
       " ('make', 'america'),\n",
       " ('small', 'banks')]"
      ]
     },
     "execution_count": 116,
     "metadata": {},
     "output_type": "execute_result"
    }
   ],
   "source": [
    "finder.apply_freq_filter(2)\n",
    "ignored_words = nltk.corpus.stopwords.words('english')\n",
    "finder.apply_word_filter(lambda w: len(w) < 3 or w.lower() in ignored_words)\n",
    "finder.apply_word_filter(lambda w: w in ('.', '?','of','in','on',',',\"'re\",\"'ve\",\"'ll\",\"n't\"))\n",
    "finder.nbest(bigram_measures.pmi,20)"
   ]
  },
  {
   "cell_type": "code",
   "execution_count": null,
   "metadata": {
    "collapsed": true
   },
   "outputs": [],
   "source": []
  },
  {
   "cell_type": "code",
   "execution_count": null,
   "metadata": {
    "collapsed": true
   },
   "outputs": [],
   "source": []
  }
 ],
 "metadata": {
  "kernelspec": {
   "display_name": "Python 2",
   "language": "python",
   "name": "python2"
  },
  "language_info": {
   "codemirror_mode": {
    "name": "ipython",
    "version": 2
   },
   "file_extension": ".py",
   "mimetype": "text/x-python",
   "name": "python",
   "nbconvert_exporter": "python",
   "pygments_lexer": "ipython2",
   "version": "2.7.11"
  }
 },
 "nbformat": 4,
 "nbformat_minor": 0
}
